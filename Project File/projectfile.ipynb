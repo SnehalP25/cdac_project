{
  "nbformat": 4,
  "nbformat_minor": 0,
  "metadata": {
    "colab": {
      "name": "projectfile.ipynb",
      "provenance": [],
      "collapsed_sections": []
    },
    "kernelspec": {
      "display_name": "Python 3",
      "name": "python3"
    },
    "language_info": {
      "name": "python"
    }
  },
  "cells": [
    {
      "cell_type": "markdown",
      "metadata": {
        "id": "NJYuoVF3oeUt"
      },
      "source": [
        "## **Vehicle accident predication model based on weather factors**\n"
      ]
    },
    {
      "cell_type": "markdown",
      "metadata": {
        "id": "aOZdNzL1SL8h"
      },
      "source": [
        "**Libraries**"
      ]
    },
    {
      "cell_type": "code",
      "metadata": {
        "id": "aEAYewxITW0h"
      },
      "source": [
        "#importing numpy and pandas\n",
        "import pandas as pd\n",
        "import numpy as np\n",
        "import matplotlib.pyplot as plt"
      ],
      "execution_count": 1,
      "outputs": []
    },
    {
      "cell_type": "markdown",
      "metadata": {
        "id": "J8J4fQo9SYq4"
      },
      "source": [
        "**Import Dataset**"
      ]
    },
    {
      "cell_type": "code",
      "metadata": {
        "id": "IpxP25FdIwfw"
      },
      "source": [
        "first_dataset=pd.read_csv(\"Train_WeatherData1.csv\")\n"
      ],
      "execution_count": 2,
      "outputs": []
    },
    {
      "cell_type": "code",
      "metadata": {
        "colab": {
          "base_uri": "https://localhost:8080/"
        },
        "id": "_zatiSlGabYL",
        "outputId": "26f38181-dcef-4112-a270-13f136a4d351"
      },
      "source": [
        "first_dataset.shape"
      ],
      "execution_count": 5,
      "outputs": [
        {
          "output_type": "execute_result",
          "data": {
            "text/plain": [
              "(162566, 8)"
            ]
          },
          "metadata": {
            "tags": []
          },
          "execution_count": 5
        }
      ]
    },
    {
      "cell_type": "code",
      "metadata": {
        "id": "XzVCmT2UPDiI"
      },
      "source": [
        "second_dataset=pd.read_csv(\"Train_Vehicletravellingdata1.csv\")"
      ],
      "execution_count": 3,
      "outputs": []
    },
    {
      "cell_type": "code",
      "metadata": {
        "colab": {
          "base_uri": "https://localhost:8080/"
        },
        "id": "DjsPPV9lk1vi",
        "outputId": "adc5f82a-2b14-42ab-926c-d5cee527cdc8"
      },
      "source": [
        "second_dataset.shape"
      ],
      "execution_count": 4,
      "outputs": [
        {
          "output_type": "execute_result",
          "data": {
            "text/plain": [
              "(162566, 10)"
            ]
          },
          "metadata": {
            "tags": []
          },
          "execution_count": 4
        }
      ]
    },
    {
      "cell_type": "code",
      "metadata": {
        "colab": {
          "base_uri": "https://localhost:8080/",
          "height": 383
        },
        "id": "vHR661kMO7bI",
        "outputId": "11d6bb72-4c42-4b14-8ba4-cb044608ce7d"
      },
      "source": [
        "df=pd.concat([first_dataset, second_dataset],axis=1)\n",
        "df.head()"
      ],
      "execution_count": 6,
      "outputs": [
        {
          "output_type": "execute_result",
          "data": {
            "text/html": [
              "<div>\n",
              "<style scoped>\n",
              "    .dataframe tbody tr th:only-of-type {\n",
              "        vertical-align: middle;\n",
              "    }\n",
              "\n",
              "    .dataframe tbody tr th {\n",
              "        vertical-align: top;\n",
              "    }\n",
              "\n",
              "    .dataframe thead th {\n",
              "        text-align: right;\n",
              "    }\n",
              "</style>\n",
              "<table border=\"1\" class=\"dataframe\">\n",
              "  <thead>\n",
              "    <tr style=\"text-align: right;\">\n",
              "      <th></th>\n",
              "      <th>ID</th>\n",
              "      <th>weather_intensity</th>\n",
              "      <th>intensity</th>\n",
              "      <th>humidity</th>\n",
              "      <th>wind_direc</th>\n",
              "      <th>wind_speed</th>\n",
              "      <th>light_condition</th>\n",
              "      <th>percep_type</th>\n",
              "      <th>ID</th>\n",
              "      <th>DateTime</th>\n",
              "      <th>speed</th>\n",
              "      <th>ID_prec</th>\n",
              "      <th>speed_prec</th>\n",
              "      <th>weight</th>\n",
              "      <th>leng_prec</th>\n",
              "      <th>time_gaprec</th>\n",
              "      <th>condition_of_road</th>\n",
              "      <th>lane_road_accident</th>\n",
              "    </tr>\n",
              "  </thead>\n",
              "  <tbody>\n",
              "    <tr>\n",
              "      <th>0</th>\n",
              "      <td>DR_24526</td>\n",
              "      <td>7.0</td>\n",
              "      <td>None</td>\n",
              "      <td>95.0</td>\n",
              "      <td>146.0</td>\n",
              "      <td>1.0</td>\n",
              "      <td>daylight</td>\n",
              "      <td>clear</td>\n",
              "      <td>DR_24526</td>\n",
              "      <td>21-03-2012 09:14</td>\n",
              "      <td>81</td>\n",
              "      <td>57227</td>\n",
              "      <td>87</td>\n",
              "      <td>16986</td>\n",
              "      <td>941</td>\n",
              "      <td>94.0</td>\n",
              "      <td>Dry</td>\n",
              "      <td>1</td>\n",
              "    </tr>\n",
              "    <tr>\n",
              "      <th>1</th>\n",
              "      <td>DR_24526</td>\n",
              "      <td>7.0</td>\n",
              "      <td>None</td>\n",
              "      <td>95.0</td>\n",
              "      <td>124.0</td>\n",
              "      <td>0.0</td>\n",
              "      <td>daylight</td>\n",
              "      <td>clear</td>\n",
              "      <td>DR_24526</td>\n",
              "      <td>21-03-2012 09:15</td>\n",
              "      <td>88</td>\n",
              "      <td>57229</td>\n",
              "      <td>81</td>\n",
              "      <td>1708</td>\n",
              "      <td>551</td>\n",
              "      <td>11.0</td>\n",
              "      <td>Dry</td>\n",
              "      <td>1</td>\n",
              "    </tr>\n",
              "    <tr>\n",
              "      <th>2</th>\n",
              "      <td>DR_24526</td>\n",
              "      <td>7.0</td>\n",
              "      <td>None</td>\n",
              "      <td>95.0</td>\n",
              "      <td>124.0</td>\n",
              "      <td>0.0</td>\n",
              "      <td>daylight</td>\n",
              "      <td>clear</td>\n",
              "      <td>DR_24526</td>\n",
              "      <td>21-03-2012 09:15</td>\n",
              "      <td>88</td>\n",
              "      <td>57230</td>\n",
              "      <td>88</td>\n",
              "      <td>22892</td>\n",
              "      <td>1698</td>\n",
              "      <td>4.0</td>\n",
              "      <td>Dry</td>\n",
              "      <td>1</td>\n",
              "    </tr>\n",
              "    <tr>\n",
              "      <th>3</th>\n",
              "      <td>DR_24526</td>\n",
              "      <td>7.0</td>\n",
              "      <td>None</td>\n",
              "      <td>95.0</td>\n",
              "      <td>124.0</td>\n",
              "      <td>0.0</td>\n",
              "      <td>daylight</td>\n",
              "      <td>clear</td>\n",
              "      <td>DR_24526</td>\n",
              "      <td>21-03-2012 09:15</td>\n",
              "      <td>84</td>\n",
              "      <td>57228</td>\n",
              "      <td>89</td>\n",
              "      <td>1945</td>\n",
              "      <td>544</td>\n",
              "      <td>127.0</td>\n",
              "      <td>Dry</td>\n",
              "      <td>0</td>\n",
              "    </tr>\n",
              "    <tr>\n",
              "      <th>4</th>\n",
              "      <td>DR_24526</td>\n",
              "      <td>7.0</td>\n",
              "      <td>None</td>\n",
              "      <td>95.0</td>\n",
              "      <td>124.0</td>\n",
              "      <td>0.0</td>\n",
              "      <td>daylight</td>\n",
              "      <td>clear</td>\n",
              "      <td>DR_24526</td>\n",
              "      <td>21-03-2012 09:15</td>\n",
              "      <td>89</td>\n",
              "      <td>57231</td>\n",
              "      <td>88</td>\n",
              "      <td>13787</td>\n",
              "      <td>1893</td>\n",
              "      <td>42.0</td>\n",
              "      <td>Dry</td>\n",
              "      <td>1</td>\n",
              "    </tr>\n",
              "  </tbody>\n",
              "</table>\n",
              "</div>"
            ],
            "text/plain": [
              "         ID  weather_intensity  ... condition_of_road  lane_road_accident\n",
              "0  DR_24526                7.0  ...               Dry                   1\n",
              "1  DR_24526                7.0  ...               Dry                   1\n",
              "2  DR_24526                7.0  ...               Dry                   1\n",
              "3  DR_24526                7.0  ...               Dry                   0\n",
              "4  DR_24526                7.0  ...               Dry                   1\n",
              "\n",
              "[5 rows x 18 columns]"
            ]
          },
          "metadata": {
            "tags": []
          },
          "execution_count": 6
        }
      ]
    },
    {
      "cell_type": "code",
      "metadata": {
        "id": "QtsU9HwRPhXu"
      },
      "source": [
        "df.to_csv('project2.csv')"
      ],
      "execution_count": 7,
      "outputs": []
    },
    {
      "cell_type": "code",
      "metadata": {
        "colab": {
          "base_uri": "https://localhost:8080/",
          "height": 383
        },
        "id": "UfSTgBlkKBOj",
        "outputId": "a573033a-1f9f-4149-bf61-2b2561e224a2"
      },
      "source": [
        "df5=pd.read_csv(\"project2.csv\",index_col=0,na_values=' ')\n",
        "df5.head()"
      ],
      "execution_count": 8,
      "outputs": [
        {
          "output_type": "execute_result",
          "data": {
            "text/html": [
              "<div>\n",
              "<style scoped>\n",
              "    .dataframe tbody tr th:only-of-type {\n",
              "        vertical-align: middle;\n",
              "    }\n",
              "\n",
              "    .dataframe tbody tr th {\n",
              "        vertical-align: top;\n",
              "    }\n",
              "\n",
              "    .dataframe thead th {\n",
              "        text-align: right;\n",
              "    }\n",
              "</style>\n",
              "<table border=\"1\" class=\"dataframe\">\n",
              "  <thead>\n",
              "    <tr style=\"text-align: right;\">\n",
              "      <th></th>\n",
              "      <th>ID</th>\n",
              "      <th>weather_intensity</th>\n",
              "      <th>intensity</th>\n",
              "      <th>humidity</th>\n",
              "      <th>wind_direc</th>\n",
              "      <th>wind_speed</th>\n",
              "      <th>light_condition</th>\n",
              "      <th>percep_type</th>\n",
              "      <th>ID.1</th>\n",
              "      <th>DateTime</th>\n",
              "      <th>speed</th>\n",
              "      <th>ID_prec</th>\n",
              "      <th>speed_prec</th>\n",
              "      <th>weight</th>\n",
              "      <th>leng_prec</th>\n",
              "      <th>time_gaprec</th>\n",
              "      <th>condition_of_road</th>\n",
              "      <th>lane_road_accident</th>\n",
              "    </tr>\n",
              "  </thead>\n",
              "  <tbody>\n",
              "    <tr>\n",
              "      <th>0</th>\n",
              "      <td>DR_24526</td>\n",
              "      <td>7.0</td>\n",
              "      <td>None</td>\n",
              "      <td>95.0</td>\n",
              "      <td>146.0</td>\n",
              "      <td>1.0</td>\n",
              "      <td>daylight</td>\n",
              "      <td>clear</td>\n",
              "      <td>DR_24526</td>\n",
              "      <td>21-03-2012 09:14</td>\n",
              "      <td>81</td>\n",
              "      <td>57227</td>\n",
              "      <td>87</td>\n",
              "      <td>16986</td>\n",
              "      <td>941</td>\n",
              "      <td>94.0</td>\n",
              "      <td>Dry</td>\n",
              "      <td>1</td>\n",
              "    </tr>\n",
              "    <tr>\n",
              "      <th>1</th>\n",
              "      <td>DR_24526</td>\n",
              "      <td>7.0</td>\n",
              "      <td>None</td>\n",
              "      <td>95.0</td>\n",
              "      <td>124.0</td>\n",
              "      <td>0.0</td>\n",
              "      <td>daylight</td>\n",
              "      <td>clear</td>\n",
              "      <td>DR_24526</td>\n",
              "      <td>21-03-2012 09:15</td>\n",
              "      <td>88</td>\n",
              "      <td>57229</td>\n",
              "      <td>81</td>\n",
              "      <td>1708</td>\n",
              "      <td>551</td>\n",
              "      <td>11.0</td>\n",
              "      <td>Dry</td>\n",
              "      <td>1</td>\n",
              "    </tr>\n",
              "    <tr>\n",
              "      <th>2</th>\n",
              "      <td>DR_24526</td>\n",
              "      <td>7.0</td>\n",
              "      <td>None</td>\n",
              "      <td>95.0</td>\n",
              "      <td>124.0</td>\n",
              "      <td>0.0</td>\n",
              "      <td>daylight</td>\n",
              "      <td>clear</td>\n",
              "      <td>DR_24526</td>\n",
              "      <td>21-03-2012 09:15</td>\n",
              "      <td>88</td>\n",
              "      <td>57230</td>\n",
              "      <td>88</td>\n",
              "      <td>22892</td>\n",
              "      <td>1698</td>\n",
              "      <td>4.0</td>\n",
              "      <td>Dry</td>\n",
              "      <td>1</td>\n",
              "    </tr>\n",
              "    <tr>\n",
              "      <th>3</th>\n",
              "      <td>DR_24526</td>\n",
              "      <td>7.0</td>\n",
              "      <td>None</td>\n",
              "      <td>95.0</td>\n",
              "      <td>124.0</td>\n",
              "      <td>0.0</td>\n",
              "      <td>daylight</td>\n",
              "      <td>clear</td>\n",
              "      <td>DR_24526</td>\n",
              "      <td>21-03-2012 09:15</td>\n",
              "      <td>84</td>\n",
              "      <td>57228</td>\n",
              "      <td>89</td>\n",
              "      <td>1945</td>\n",
              "      <td>544</td>\n",
              "      <td>127.0</td>\n",
              "      <td>Dry</td>\n",
              "      <td>0</td>\n",
              "    </tr>\n",
              "    <tr>\n",
              "      <th>4</th>\n",
              "      <td>DR_24526</td>\n",
              "      <td>7.0</td>\n",
              "      <td>None</td>\n",
              "      <td>95.0</td>\n",
              "      <td>124.0</td>\n",
              "      <td>0.0</td>\n",
              "      <td>daylight</td>\n",
              "      <td>clear</td>\n",
              "      <td>DR_24526</td>\n",
              "      <td>21-03-2012 09:15</td>\n",
              "      <td>89</td>\n",
              "      <td>57231</td>\n",
              "      <td>88</td>\n",
              "      <td>13787</td>\n",
              "      <td>1893</td>\n",
              "      <td>42.0</td>\n",
              "      <td>Dry</td>\n",
              "      <td>1</td>\n",
              "    </tr>\n",
              "  </tbody>\n",
              "</table>\n",
              "</div>"
            ],
            "text/plain": [
              "         ID  weather_intensity  ... condition_of_road  lane_road_accident\n",
              "0  DR_24526                7.0  ...               Dry                   1\n",
              "1  DR_24526                7.0  ...               Dry                   1\n",
              "2  DR_24526                7.0  ...               Dry                   1\n",
              "3  DR_24526                7.0  ...               Dry                   0\n",
              "4  DR_24526                7.0  ...               Dry                   1\n",
              "\n",
              "[5 rows x 18 columns]"
            ]
          },
          "metadata": {
            "tags": []
          },
          "execution_count": 8
        }
      ]
    },
    {
      "cell_type": "markdown",
      "metadata": {
        "id": "-rRMklje9tg7"
      },
      "source": [
        "shape of dataset \n"
      ]
    },
    {
      "cell_type": "code",
      "metadata": {
        "colab": {
          "base_uri": "https://localhost:8080/"
        },
        "id": "x3dzbxeYKUYk",
        "outputId": "c1e407cd-8876-4db9-f564-0dd1706776d1"
      },
      "source": [
        "df5.shape"
      ],
      "execution_count": 9,
      "outputs": [
        {
          "output_type": "execute_result",
          "data": {
            "text/plain": [
              "(162566, 18)"
            ]
          },
          "metadata": {
            "tags": []
          },
          "execution_count": 9
        }
      ]
    },
    {
      "cell_type": "markdown",
      "metadata": {
        "id": "s61gfPwwR84r"
      },
      "source": [
        "## Datatype of dataset"
      ]
    },
    {
      "cell_type": "code",
      "metadata": {
        "colab": {
          "base_uri": "https://localhost:8080/"
        },
        "id": "UPl2LLe8Wl1t",
        "outputId": "656fba70-992b-4c8d-bc3c-5aab19b9af03"
      },
      "source": [
        "df5.dtypes"
      ],
      "execution_count": 10,
      "outputs": [
        {
          "output_type": "execute_result",
          "data": {
            "text/plain": [
              "ID                     object\n",
              "weather_intensity     float64\n",
              "intensity              object\n",
              "humidity              float64\n",
              "wind_direc            float64\n",
              "wind_speed            float64\n",
              "light_condition        object\n",
              "percep_type            object\n",
              "ID.1                   object\n",
              "DateTime               object\n",
              "speed                   int64\n",
              "ID_prec                 int64\n",
              "speed_prec              int64\n",
              "weight                  int64\n",
              "leng_prec               int64\n",
              "time_gaprec           float64\n",
              "condition_of_road      object\n",
              "lane_road_accident      int64\n",
              "dtype: object"
            ]
          },
          "metadata": {
            "tags": []
          },
          "execution_count": 10
        }
      ]
    },
    {
      "cell_type": "markdown",
      "metadata": {
        "id": "ZfvxzkKiSoBR"
      },
      "source": [
        "Convert datatype of \"DateTime\" cloumn string object into datetime object"
      ]
    },
    {
      "cell_type": "code",
      "metadata": {
        "id": "w6lD9QrlTHPJ"
      },
      "source": [
        "df5[\"DateTime\"]= pd.to_datetime(df5[\"DateTime\"]) "
      ],
      "execution_count": 11,
      "outputs": []
    },
    {
      "cell_type": "code",
      "metadata": {
        "colab": {
          "base_uri": "https://localhost:8080/"
        },
        "id": "ohvnGvmaTOWI",
        "outputId": "d4db221a-5fc3-4fcc-8ab1-dd260d2f7b5e"
      },
      "source": [
        "df5.dtypes"
      ],
      "execution_count": 12,
      "outputs": [
        {
          "output_type": "execute_result",
          "data": {
            "text/plain": [
              "ID                            object\n",
              "weather_intensity            float64\n",
              "intensity                     object\n",
              "humidity                     float64\n",
              "wind_direc                   float64\n",
              "wind_speed                   float64\n",
              "light_condition               object\n",
              "percep_type                   object\n",
              "ID.1                          object\n",
              "DateTime              datetime64[ns]\n",
              "speed                          int64\n",
              "ID_prec                        int64\n",
              "speed_prec                     int64\n",
              "weight                         int64\n",
              "leng_prec                      int64\n",
              "time_gaprec                  float64\n",
              "condition_of_road             object\n",
              "lane_road_accident             int64\n",
              "dtype: object"
            ]
          },
          "metadata": {
            "tags": []
          },
          "execution_count": 12
        }
      ]
    },
    {
      "cell_type": "markdown",
      "metadata": {
        "id": "oznt9CGhUKsb"
      },
      "source": [
        "**Check isNull value is present**"
      ]
    },
    {
      "cell_type": "code",
      "metadata": {
        "colab": {
          "base_uri": "https://localhost:8080/"
        },
        "id": "fR_ozTzNUFMj",
        "outputId": "c12cccbc-c95d-4969-a619-ac2113b703bc"
      },
      "source": [
        "df5.isnull().sum()"
      ],
      "execution_count": 13,
      "outputs": [
        {
          "output_type": "execute_result",
          "data": {
            "text/plain": [
              "ID                       0\n",
              "weather_intensity     2057\n",
              "intensity             2274\n",
              "humidity              2105\n",
              "wind_direc            2114\n",
              "wind_speed            2464\n",
              "light_condition          0\n",
              "percep_type              0\n",
              "ID.1                     0\n",
              "DateTime                 0\n",
              "speed                    0\n",
              "ID_prec                  0\n",
              "speed_prec               0\n",
              "weight                   0\n",
              "leng_prec                0\n",
              "time_gaprec           2455\n",
              "condition_of_road        0\n",
              "lane_road_accident       0\n",
              "dtype: int64"
            ]
          },
          "metadata": {
            "tags": []
          },
          "execution_count": 13
        }
      ]
    },
    {
      "cell_type": "markdown",
      "metadata": {
        "id": "U2zzEEfFUVh7"
      },
      "source": [
        "**Replace all Null values with mode**"
      ]
    },
    {
      "cell_type": "code",
      "metadata": {
        "id": "Ex3BHZWKUOkW"
      },
      "source": [
        "def fill_with_mode(x):\n",
        "  for col in x:\n",
        "    df5[col].fillna(df5[col].mode()[0],inplace=True)\n",
        "col=['time_gaprec','weather_intensity','humidity','wind_direc','wind_speed']\n",
        "fill_with_mode(col)"
      ],
      "execution_count": 14,
      "outputs": []
    },
    {
      "cell_type": "markdown",
      "metadata": {
        "id": "88HegGjxUhg3"
      },
      "source": [
        "After Replacing all Null values checking is there Null values still present"
      ]
    },
    {
      "cell_type": "code",
      "metadata": {
        "colab": {
          "base_uri": "https://localhost:8080/"
        },
        "id": "f0PgL70EUTPL",
        "outputId": "22bffaf8-ea9a-46f5-aa0d-01657553905f"
      },
      "source": [
        "df5.isnull().sum(axis=0)"
      ],
      "execution_count": 15,
      "outputs": [
        {
          "output_type": "execute_result",
          "data": {
            "text/plain": [
              "ID                       0\n",
              "weather_intensity        0\n",
              "intensity             2274\n",
              "humidity                 0\n",
              "wind_direc               0\n",
              "wind_speed               0\n",
              "light_condition          0\n",
              "percep_type              0\n",
              "ID.1                     0\n",
              "DateTime                 0\n",
              "speed                    0\n",
              "ID_prec                  0\n",
              "speed_prec               0\n",
              "weight                   0\n",
              "leng_prec                0\n",
              "time_gaprec              0\n",
              "condition_of_road        0\n",
              "lane_road_accident       0\n",
              "dtype: int64"
            ]
          },
          "metadata": {
            "tags": []
          },
          "execution_count": 15
        }
      ]
    },
    {
      "cell_type": "markdown",
      "metadata": {
        "id": "m4uKPQbOGo9i"
      },
      "source": [
        "**Label mapping**"
      ]
    },
    {
      "cell_type": "code",
      "metadata": {
        "colab": {
          "base_uri": "https://localhost:8080/"
        },
        "id": "QWNEykA1T004",
        "outputId": "88835e8b-bec6-4f51-dd24-bd2cbaf585f8"
      },
      "source": [
        "df5['intensity'].unique()"
      ],
      "execution_count": 16,
      "outputs": [
        {
          "output_type": "execute_result",
          "data": {
            "text/plain": [
              "array(['None', 'Low', nan, 'Moderate', 'High'], dtype=object)"
            ]
          },
          "metadata": {
            "tags": []
          },
          "execution_count": 16
        }
      ]
    },
    {
      "cell_type": "code",
      "metadata": {
        "id": "905gCDDdwc3H"
      },
      "source": [
        "label_map = {'intensity' : {'None' : 1, 'Low' : 2 , 'Moderate' : 3,'High' : 4}}\n",
        "df5= df5.replace(label_map)"
      ],
      "execution_count": 17,
      "outputs": []
    },
    {
      "cell_type": "code",
      "metadata": {
        "colab": {
          "base_uri": "https://localhost:8080/"
        },
        "id": "GfWEbg95xWMx",
        "outputId": "690e5f35-8344-49be-fb5f-6cac1c36df52"
      },
      "source": [
        "df5['intensity'].unique()"
      ],
      "execution_count": 18,
      "outputs": [
        {
          "output_type": "execute_result",
          "data": {
            "text/plain": [
              "array([ 1.,  2., nan,  3.,  4.])"
            ]
          },
          "metadata": {
            "tags": []
          },
          "execution_count": 18
        }
      ]
    },
    {
      "cell_type": "markdown",
      "metadata": {
        "id": "BKzcUtJIHRZ8"
      },
      "source": [
        "Fill Null value  with mode"
      ]
    },
    {
      "cell_type": "code",
      "metadata": {
        "id": "17pVntBS_Ts4"
      },
      "source": [
        "def fill_with_mode(x):\n",
        "  for col in x:\n",
        "    df5[col].fillna(df5[col].mode()[0],inplace=True)\n",
        "col=['intensity']\n",
        "fill_with_mode(col)"
      ],
      "execution_count": 19,
      "outputs": []
    },
    {
      "cell_type": "code",
      "metadata": {
        "colab": {
          "base_uri": "https://localhost:8080/"
        },
        "id": "LyxUF_c8_a9g",
        "outputId": "e9d46dc8-fe72-4fed-e77b-7137b9269ace"
      },
      "source": [
        "df5['intensity'].unique()"
      ],
      "execution_count": 20,
      "outputs": [
        {
          "output_type": "execute_result",
          "data": {
            "text/plain": [
              "array([1., 2., 3., 4.])"
            ]
          },
          "metadata": {
            "tags": []
          },
          "execution_count": 20
        }
      ]
    },
    {
      "cell_type": "code",
      "metadata": {
        "colab": {
          "base_uri": "https://localhost:8080/"
        },
        "id": "21Vo9kDJUfp4",
        "outputId": "fa4245d8-3b77-4982-de5b-90313b475560"
      },
      "source": [
        "df5.isna().sum()"
      ],
      "execution_count": 21,
      "outputs": [
        {
          "output_type": "execute_result",
          "data": {
            "text/plain": [
              "ID                    0\n",
              "weather_intensity     0\n",
              "intensity             0\n",
              "humidity              0\n",
              "wind_direc            0\n",
              "wind_speed            0\n",
              "light_condition       0\n",
              "percep_type           0\n",
              "ID.1                  0\n",
              "DateTime              0\n",
              "speed                 0\n",
              "ID_prec               0\n",
              "speed_prec            0\n",
              "weight                0\n",
              "leng_prec             0\n",
              "time_gaprec           0\n",
              "condition_of_road     0\n",
              "lane_road_accident    0\n",
              "dtype: int64"
            ]
          },
          "metadata": {
            "tags": []
          },
          "execution_count": 21
        }
      ]
    },
    {
      "cell_type": "code",
      "metadata": {
        "colab": {
          "base_uri": "https://localhost:8080/"
        },
        "id": "SHdA9XXDMte7",
        "outputId": "34851846-c2ed-4ff8-8e7e-b0439966015f"
      },
      "source": [
        "df5.shape"
      ],
      "execution_count": null,
      "outputs": [
        {
          "output_type": "execute_result",
          "data": {
            "text/plain": [
              "(162566, 18)"
            ]
          },
          "metadata": {
            "tags": []
          },
          "execution_count": 25
        }
      ]
    },
    {
      "cell_type": "markdown",
      "metadata": {
        "id": "qkPbJHwPPZ-s"
      },
      "source": [
        "**drop columns**"
      ]
    },
    {
      "cell_type": "code",
      "metadata": {
        "id": "R-QHwX7ByqWV"
      },
      "source": [
        "df5.drop(['ID','ID.1','DateTime','ID_prec'],axis=1,inplace=True)"
      ],
      "execution_count": 22,
      "outputs": []
    },
    {
      "cell_type": "code",
      "metadata": {
        "colab": {
          "base_uri": "https://localhost:8080/"
        },
        "id": "C6sWXusUM42w",
        "outputId": "8f9eeaad-0fd7-4a3a-c9dd-482310c357f8"
      },
      "source": [
        "df5.dtypes\n"
      ],
      "execution_count": 23,
      "outputs": [
        {
          "output_type": "execute_result",
          "data": {
            "text/plain": [
              "weather_intensity     float64\n",
              "intensity             float64\n",
              "humidity              float64\n",
              "wind_direc            float64\n",
              "wind_speed            float64\n",
              "light_condition        object\n",
              "percep_type            object\n",
              "speed                   int64\n",
              "speed_prec              int64\n",
              "weight                  int64\n",
              "leng_prec               int64\n",
              "time_gaprec           float64\n",
              "condition_of_road      object\n",
              "lane_road_accident      int64\n",
              "dtype: object"
            ]
          },
          "metadata": {
            "tags": []
          },
          "execution_count": 23
        }
      ]
    },
    {
      "cell_type": "markdown",
      "metadata": {
        "id": "ZAMLGJ3OV9sJ"
      },
      "source": [
        "# **Visualization**"
      ]
    },
    {
      "cell_type": "code",
      "metadata": {
        "colab": {
          "base_uri": "https://localhost:8080/",
          "height": 366
        },
        "id": "FlZUXys1o2RG",
        "outputId": "0ea07b3b-00c1-4c1f-b9c0-20e3f60951d1"
      },
      "source": [
        "import seaborn as sns\n",
        "plt.figure(figsize=(6,4))\n",
        "sns.barplot('condition_of_road','lane_road_accident',hue='condition_of_road',data=df5,ci=None, palette='Set2')\n",
        "plt.legend(bbox_to_anchor=(1,1))\n",
        "plt.title('lane_road_accident by condition_of_road')"
      ],
      "execution_count": null,
      "outputs": [
        {
          "output_type": "stream",
          "text": [
            "/usr/local/lib/python3.7/dist-packages/seaborn/_decorators.py:43: FutureWarning: Pass the following variables as keyword args: x, y. From version 0.12, the only valid positional argument will be `data`, and passing other arguments without an explicit keyword will result in an error or misinterpretation.\n",
            "  FutureWarning\n"
          ],
          "name": "stderr"
        },
        {
          "output_type": "execute_result",
          "data": {
            "text/plain": [
              "Text(0.5, 1.0, 'lane_road_accident by condition_of_road')"
            ]
          },
          "metadata": {
            "tags": []
          },
          "execution_count": 28
        },
        {
          "output_type": "display_data",
          "data": {
            "image/png": "[encoded data removed]",
            "text/plain": [
              "<Figure size 432x288 with 1 Axes>"
            ]
          },
          "metadata": {
            "tags": [],
            "needs_background": "light"
          }
        }
      ]
    },
    {
      "cell_type": "markdown",
      "metadata": {
        "id": "Gt8p6zr9CGIh"
      },
      "source": [
        "**The above graph is the 'condition_of_road' with repsect to 'road_accident'.**\n",
        "**By considering 'Snow_covered' condition the chances of accident is high as compared others.**"
      ]
    },
    {
      "cell_type": "code",
      "metadata": {
        "colab": {
          "base_uri": "https://localhost:8080/",
          "height": 366
        },
        "id": "qKRx8Fi2sONg",
        "outputId": "192c54dd-6a57-47e4-f7e1-822d8f6e97ec"
      },
      "source": [
        "import seaborn as sns\n",
        "plt.figure(figsize=(10,4))\n",
        "sns.barplot('percep_type','lane_road_accident',hue='percep_type',data=df5,ci=None, palette='Set2')\n",
        "plt.legend(bbox_to_anchor=(1,1))\n",
        "plt.title('percep_type by lane_road_accident')"
      ],
      "execution_count": null,
      "outputs": [
        {
          "output_type": "stream",
          "text": [
            "/usr/local/lib/python3.7/dist-packages/seaborn/_decorators.py:43: FutureWarning: Pass the following variables as keyword args: x, y. From version 0.12, the only valid positional argument will be `data`, and passing other arguments without an explicit keyword will result in an error or misinterpretation.\n",
            "  FutureWarning\n"
          ],
          "name": "stderr"
        },
        {
          "output_type": "execute_result",
          "data": {
            "text/plain": [
              "Text(0.5, 1.0, 'percep_type by lane_road_accident')"
            ]
          },
          "metadata": {
            "tags": []
          },
          "execution_count": 29
        },
        {
          "output_type": "display_data",
          "data": {
            "image/png": "[encoded data removed]",
            "text/plain": [
              "<Figure size 720x288 with 1 Axes>"
            ]
          },
          "metadata": {
            "tags": [],
            "needs_background": "light"
          }
        }
      ]
    },
    {
      "cell_type": "markdown",
      "metadata": {
        "id": "fKEwlMw9B7K7"
      },
      "source": [
        "**Observing above graph it is state that during percep_type weather i.e when Weather is clear the chances of getting accident is high as compared others and in 'snow','Rain' condition chances is low**"
      ]
    },
    {
      "cell_type": "code",
      "metadata": {
        "colab": {
          "base_uri": "https://localhost:8080/",
          "height": 366
        },
        "id": "MmS2WJpAhgbB",
        "outputId": "bf4f48d3-f32a-41da-aaf7-42fc134b95ce"
      },
      "source": [
        "import seaborn as sns\n",
        "plt.figure(figsize=(6,4))\n",
        "sns.barplot('intensity','lane_road_accident',hue='intensity',data=df5,ci=None, palette='Set2')\n",
        "plt.legend(bbox_to_anchor=(1,1))\n",
        "plt.title('Intensity by lane_road_accident')"
      ],
      "execution_count": null,
      "outputs": [
        {
          "output_type": "stream",
          "text": [
            "/usr/local/lib/python3.7/dist-packages/seaborn/_decorators.py:43: FutureWarning: Pass the following variables as keyword args: x, y. From version 0.12, the only valid positional argument will be `data`, and passing other arguments without an explicit keyword will result in an error or misinterpretation.\n",
            "  FutureWarning\n"
          ],
          "name": "stderr"
        },
        {
          "output_type": "execute_result",
          "data": {
            "text/plain": [
              "Text(0.5, 1.0, 'Intensity by lane_road_accident')"
            ]
          },
          "metadata": {
            "tags": []
          },
          "execution_count": 30
        },
        {
          "output_type": "display_data",
          "data": {
            "image/png": "[encoded data removed]",
            "text/plain": [
              "<Figure size 432x288 with 1 Axes>"
            ]
          },
          "metadata": {
            "tags": [],
            "needs_background": "light"
          }
        }
      ]
    },
    {
      "cell_type": "markdown",
      "metadata": {
        "id": "vj6PdS0TA87z"
      },
      "source": [
        "**By observing above graph the chances of getting accident due to weather intensity 'None' (i.e when there is no intensity is present)is high as comparing other condition**"
      ]
    },
    {
      "cell_type": "code",
      "metadata": {
        "colab": {
          "base_uri": "https://localhost:8080/",
          "height": 366
        },
        "id": "uK4Q3bffiDfG",
        "outputId": "20d4700e-6c91-4685-a3cc-b40769245448"
      },
      "source": [
        "import seaborn as sns\n",
        "plt.figure(figsize=(6,4))\n",
        "sns.barplot('light_condition','lane_road_accident',hue='light_condition',data=df5,ci=None, palette='Set2')\n",
        "plt.legend(bbox_to_anchor=(1,1))\n",
        "plt.title('lane_road_accident by light_condition')"
      ],
      "execution_count": null,
      "outputs": [
        {
          "output_type": "stream",
          "text": [
            "/usr/local/lib/python3.7/dist-packages/seaborn/_decorators.py:43: FutureWarning: Pass the following variables as keyword args: x, y. From version 0.12, the only valid positional argument will be `data`, and passing other arguments without an explicit keyword will result in an error or misinterpretation.\n",
            "  FutureWarning\n"
          ],
          "name": "stderr"
        },
        {
          "output_type": "execute_result",
          "data": {
            "text/plain": [
              "Text(0.5, 1.0, 'lane_road_accident by light_condition')"
            ]
          },
          "metadata": {
            "tags": []
          },
          "execution_count": 31
        },
        {
          "output_type": "display_data",
          "data": {
            "image/png": "[encoded data removed]",
            "text/plain": [
              "<Figure size 432x288 with 1 Axes>"
            ]
          },
          "metadata": {
            "tags": [],
            "needs_background": "light"
          }
        }
      ]
    },
    {
      "cell_type": "markdown",
      "metadata": {
        "id": "vpN7v9rpAQm1"
      },
      "source": [
        "**The above graph is light_condition vs road_accident.By observing the chances of getting accident is high during night and in daylight there is low chances of getting accident**"
      ]
    },
    {
      "cell_type": "code",
      "metadata": {
        "colab": {
          "base_uri": "https://localhost:8080/",
          "height": 445
        },
        "id": "4onvKDzWY4op",
        "outputId": "89692835-f50c-418e-a9cf-1f661019edfc"
      },
      "source": [
        "fig,ax=plt.subplots(1,2,figsize=(20,6))\n",
        "sns.countplot('wind_speed',data=df5,hue='lane_road_accident',palette='autumn',ax=ax.flat[0])\n",
        "(df5['lane_road_accident'].value_counts(normalize=True)*100).plot(kind='pie',ax=ax.flat[1])\n",
        "plt.show()"
      ],
      "execution_count": null,
      "outputs": [
        {
          "output_type": "stream",
          "text": [
            "/usr/local/lib/python3.7/dist-packages/seaborn/_decorators.py:43: FutureWarning: Pass the following variable as a keyword arg: x. From version 0.12, the only valid positional argument will be `data`, and passing other arguments without an explicit keyword will result in an error or misinterpretation.\n",
            "  FutureWarning\n"
          ],
          "name": "stderr"
        },
        {
          "output_type": "display_data",
          "data": {
            "image/png": "[encoded data removed]",
            "text/plain": [
              "<Figure size 1440x432 with 2 Axes>"
            ]
          },
          "metadata": {
            "tags": [],
            "needs_background": "light"
          }
        }
      ]
    },
    {
      "cell_type": "markdown",
      "metadata": {
        "id": "hcNldQgpJgNl"
      },
      "source": [
        "**Label Encoder**"
      ]
    },
    {
      "cell_type": "code",
      "metadata": {
        "id": "ntT2dx05HhG_"
      },
      "source": [
        "from sklearn.preprocessing import LabelEncoder\n",
        "lb = LabelEncoder()\n",
        "var = ['light_condition','percep_type','condition_of_road']\n",
        "for item in var:\n",
        "  df5[item] = lb.fit_transform(df5[item])"
      ],
      "execution_count": 24,
      "outputs": []
    },
    {
      "cell_type": "markdown",
      "metadata": {
        "id": "n8j9We0d_BMW"
      },
      "source": [
        "check duplicates value is present or not?\n"
      ]
    },
    {
      "cell_type": "code",
      "metadata": {
        "colab": {
          "base_uri": "https://localhost:8080/"
        },
        "id": "3UvtouDvkW6C",
        "outputId": "b81bd52a-d8d5-4aef-9acd-6067b6e45a5c"
      },
      "source": [
        "df5.drop_duplicates().shape"
      ],
      "execution_count": 25,
      "outputs": [
        {
          "output_type": "execute_result",
          "data": {
            "text/plain": [
              "(162566, 14)"
            ]
          },
          "metadata": {
            "tags": []
          },
          "execution_count": 25
        }
      ]
    },
    {
      "cell_type": "markdown",
      "metadata": {
        "id": "QXWeI1NXDN2b"
      },
      "source": [
        "**Histogram Plotting**"
      ]
    },
    {
      "cell_type": "code",
      "metadata": {
        "colab": {
          "base_uri": "https://localhost:8080/",
          "height": 1000
        },
        "id": "edIvEJdK4lJC",
        "outputId": "67fea264-c080-4d54-9d63-9e50c4a44635"
      },
      "source": [
        "plt.figure(figsize=(15,25))\n",
        "\n",
        "for i, col in enumerate(df5.columns,1):\n",
        "    plt.subplot(12,2, i)\n",
        "    df5[col].hist()\n",
        "    plt.xlabel(col)\n",
        "plt.tight_layout()"
      ],
      "execution_count": null,
      "outputs": [
        {
          "output_type": "display_data",
          "data": {
            "image/png": "[encoded data removed]",
            "text/plain": [
              "<Figure size 1080x1800 with 14 Axes>"
            ]
          },
          "metadata": {
            "tags": [],
            "needs_background": "light"
          }
        }
      ]
    },
    {
      "cell_type": "code",
      "metadata": {
        "colab": {
          "base_uri": "https://localhost:8080/",
          "height": 215
        },
        "id": "tpCOPd6hrynr",
        "outputId": "8b086ad8-3d5d-4a98-ffa2-4151934a89f2"
      },
      "source": [
        "df5.head()"
      ],
      "execution_count": null,
      "outputs": [
        {
          "output_type": "execute_result",
          "data": {
            "text/html": [
              "<div>\n",
              "<style scoped>\n",
              "    .dataframe tbody tr th:only-of-type {\n",
              "        vertical-align: middle;\n",
              "    }\n",
              "\n",
              "    .dataframe tbody tr th {\n",
              "        vertical-align: top;\n",
              "    }\n",
              "\n",
              "    .dataframe thead th {\n",
              "        text-align: right;\n",
              "    }\n",
              "</style>\n",
              "<table border=\"1\" class=\"dataframe\">\n",
              "  <thead>\n",
              "    <tr style=\"text-align: right;\">\n",
              "      <th></th>\n",
              "      <th>weather_intensity</th>\n",
              "      <th>intensity</th>\n",
              "      <th>humidity</th>\n",
              "      <th>wind_direc</th>\n",
              "      <th>wind_speed</th>\n",
              "      <th>light_condition</th>\n",
              "      <th>percep_type</th>\n",
              "      <th>speed</th>\n",
              "      <th>speed_prec</th>\n",
              "      <th>weight</th>\n",
              "      <th>leng_prec</th>\n",
              "      <th>time_gaprec</th>\n",
              "      <th>condition_of_road</th>\n",
              "      <th>lane_road_accident</th>\n",
              "    </tr>\n",
              "  </thead>\n",
              "  <tbody>\n",
              "    <tr>\n",
              "      <th>0</th>\n",
              "      <td>7.0</td>\n",
              "      <td>1.0</td>\n",
              "      <td>95.0</td>\n",
              "      <td>146.0</td>\n",
              "      <td>1.0</td>\n",
              "      <td>0</td>\n",
              "      <td>0</td>\n",
              "      <td>81</td>\n",
              "      <td>87</td>\n",
              "      <td>16986</td>\n",
              "      <td>941</td>\n",
              "      <td>94.0</td>\n",
              "      <td>0</td>\n",
              "      <td>1</td>\n",
              "    </tr>\n",
              "    <tr>\n",
              "      <th>1</th>\n",
              "      <td>7.0</td>\n",
              "      <td>1.0</td>\n",
              "      <td>95.0</td>\n",
              "      <td>124.0</td>\n",
              "      <td>0.0</td>\n",
              "      <td>0</td>\n",
              "      <td>0</td>\n",
              "      <td>88</td>\n",
              "      <td>81</td>\n",
              "      <td>1708</td>\n",
              "      <td>551</td>\n",
              "      <td>11.0</td>\n",
              "      <td>0</td>\n",
              "      <td>1</td>\n",
              "    </tr>\n",
              "    <tr>\n",
              "      <th>2</th>\n",
              "      <td>7.0</td>\n",
              "      <td>1.0</td>\n",
              "      <td>95.0</td>\n",
              "      <td>124.0</td>\n",
              "      <td>0.0</td>\n",
              "      <td>0</td>\n",
              "      <td>0</td>\n",
              "      <td>88</td>\n",
              "      <td>88</td>\n",
              "      <td>22892</td>\n",
              "      <td>1698</td>\n",
              "      <td>4.0</td>\n",
              "      <td>0</td>\n",
              "      <td>1</td>\n",
              "    </tr>\n",
              "    <tr>\n",
              "      <th>3</th>\n",
              "      <td>7.0</td>\n",
              "      <td>1.0</td>\n",
              "      <td>95.0</td>\n",
              "      <td>124.0</td>\n",
              "      <td>0.0</td>\n",
              "      <td>0</td>\n",
              "      <td>0</td>\n",
              "      <td>84</td>\n",
              "      <td>89</td>\n",
              "      <td>1945</td>\n",
              "      <td>544</td>\n",
              "      <td>127.0</td>\n",
              "      <td>0</td>\n",
              "      <td>0</td>\n",
              "    </tr>\n",
              "    <tr>\n",
              "      <th>4</th>\n",
              "      <td>7.0</td>\n",
              "      <td>1.0</td>\n",
              "      <td>95.0</td>\n",
              "      <td>124.0</td>\n",
              "      <td>0.0</td>\n",
              "      <td>0</td>\n",
              "      <td>0</td>\n",
              "      <td>89</td>\n",
              "      <td>88</td>\n",
              "      <td>13787</td>\n",
              "      <td>1893</td>\n",
              "      <td>42.0</td>\n",
              "      <td>0</td>\n",
              "      <td>1</td>\n",
              "    </tr>\n",
              "  </tbody>\n",
              "</table>\n",
              "</div>"
            ],
            "text/plain": [
              "   weather_intensity  intensity  ...  condition_of_road  lane_road_accident\n",
              "0                7.0        1.0  ...                  0                   1\n",
              "1                7.0        1.0  ...                  0                   1\n",
              "2                7.0        1.0  ...                  0                   1\n",
              "3                7.0        1.0  ...                  0                   0\n",
              "4                7.0        1.0  ...                  0                   1\n",
              "\n",
              "[5 rows x 14 columns]"
            ]
          },
          "metadata": {
            "tags": []
          },
          "execution_count": 37
        }
      ]
    },
    {
      "cell_type": "code",
      "metadata": {
        "colab": {
          "base_uri": "https://localhost:8080/"
        },
        "id": "Yz_8H5kC0luE",
        "outputId": "63b87252-a93a-4669-e5d9-a23430bad3d1"
      },
      "source": [
        "df5.shape"
      ],
      "execution_count": null,
      "outputs": [
        {
          "output_type": "execute_result",
          "data": {
            "text/plain": [
              "(162566, 14)"
            ]
          },
          "metadata": {
            "tags": []
          },
          "execution_count": 39
        }
      ]
    },
    {
      "cell_type": "code",
      "metadata": {
        "colab": {
          "base_uri": "https://localhost:8080/",
          "height": 302
        },
        "id": "fv4cX-l20sV1",
        "outputId": "b50ba429-7573-4b62-895e-a5695787e0a0"
      },
      "source": [
        "df5.describe()"
      ],
      "execution_count": 26,
      "outputs": [
        {
          "output_type": "execute_result",
          "data": {
            "text/html": [
              "<div>\n",
              "<style scoped>\n",
              "    .dataframe tbody tr th:only-of-type {\n",
              "        vertical-align: middle;\n",
              "    }\n",
              "\n",
              "    .dataframe tbody tr th {\n",
              "        vertical-align: top;\n",
              "    }\n",
              "\n",
              "    .dataframe thead th {\n",
              "        text-align: right;\n",
              "    }\n",
              "</style>\n",
              "<table border=\"1\" class=\"dataframe\">\n",
              "  <thead>\n",
              "    <tr style=\"text-align: right;\">\n",
              "      <th></th>\n",
              "      <th>weather_intensity</th>\n",
              "      <th>intensity</th>\n",
              "      <th>humidity</th>\n",
              "      <th>wind_direc</th>\n",
              "      <th>wind_speed</th>\n",
              "      <th>light_condition</th>\n",
              "      <th>percep_type</th>\n",
              "      <th>speed</th>\n",
              "      <th>speed_prec</th>\n",
              "      <th>weight</th>\n",
              "      <th>leng_prec</th>\n",
              "      <th>time_gaprec</th>\n",
              "      <th>condition_of_road</th>\n",
              "      <th>lane_road_accident</th>\n",
              "    </tr>\n",
              "  </thead>\n",
              "  <tbody>\n",
              "    <tr>\n",
              "      <th>count</th>\n",
              "      <td>162566.000000</td>\n",
              "      <td>162566.000000</td>\n",
              "      <td>162566.000000</td>\n",
              "      <td>162566.000000</td>\n",
              "      <td>162566.000000</td>\n",
              "      <td>162566.000000</td>\n",
              "      <td>162566.000000</td>\n",
              "      <td>162566.000000</td>\n",
              "      <td>162566.000000</td>\n",
              "      <td>162566.000000</td>\n",
              "      <td>162566.000000</td>\n",
              "      <td>162566.000000</td>\n",
              "      <td>162566.000000</td>\n",
              "      <td>162566.000000</td>\n",
              "    </tr>\n",
              "    <tr>\n",
              "      <th>mean</th>\n",
              "      <td>4.607999</td>\n",
              "      <td>1.057724</td>\n",
              "      <td>60.457845</td>\n",
              "      <td>182.429173</td>\n",
              "      <td>4.125161</td>\n",
              "      <td>0.819070</td>\n",
              "      <td>0.106117</td>\n",
              "      <td>83.455483</td>\n",
              "      <td>83.458817</td>\n",
              "      <td>5017.562793</td>\n",
              "      <td>790.775285</td>\n",
              "      <td>103.764656</td>\n",
              "      <td>0.773169</td>\n",
              "      <td>0.499563</td>\n",
              "    </tr>\n",
              "    <tr>\n",
              "      <th>std</th>\n",
              "      <td>3.232133</td>\n",
              "      <td>0.252619</td>\n",
              "      <td>18.229576</td>\n",
              "      <td>88.348203</td>\n",
              "      <td>3.047835</td>\n",
              "      <td>0.614165</td>\n",
              "      <td>0.409859</td>\n",
              "      <td>9.375122</td>\n",
              "      <td>9.373120</td>\n",
              "      <td>7399.315434</td>\n",
              "      <td>481.944297</td>\n",
              "      <td>176.318944</td>\n",
              "      <td>1.277600</td>\n",
              "      <td>0.500001</td>\n",
              "    </tr>\n",
              "    <tr>\n",
              "      <th>min</th>\n",
              "      <td>-13.000000</td>\n",
              "      <td>1.000000</td>\n",
              "      <td>16.000000</td>\n",
              "      <td>6.000000</td>\n",
              "      <td>0.000000</td>\n",
              "      <td>0.000000</td>\n",
              "      <td>0.000000</td>\n",
              "      <td>8.000000</td>\n",
              "      <td>0.000000</td>\n",
              "      <td>3.000000</td>\n",
              "      <td>102.000000</td>\n",
              "      <td>1.000000</td>\n",
              "      <td>0.000000</td>\n",
              "      <td>0.000000</td>\n",
              "    </tr>\n",
              "    <tr>\n",
              "      <th>25%</th>\n",
              "      <td>2.000000</td>\n",
              "      <td>1.000000</td>\n",
              "      <td>46.000000</td>\n",
              "      <td>152.000000</td>\n",
              "      <td>1.000000</td>\n",
              "      <td>0.000000</td>\n",
              "      <td>0.000000</td>\n",
              "      <td>78.000000</td>\n",
              "      <td>78.000000</td>\n",
              "      <td>1502.000000</td>\n",
              "      <td>527.000000</td>\n",
              "      <td>6.000000</td>\n",
              "      <td>0.000000</td>\n",
              "      <td>0.000000</td>\n",
              "    </tr>\n",
              "    <tr>\n",
              "      <th>50%</th>\n",
              "      <td>5.000000</td>\n",
              "      <td>1.000000</td>\n",
              "      <td>57.000000</td>\n",
              "      <td>180.000000</td>\n",
              "      <td>4.000000</td>\n",
              "      <td>1.000000</td>\n",
              "      <td>0.000000</td>\n",
              "      <td>83.000000</td>\n",
              "      <td>83.000000</td>\n",
              "      <td>1862.000000</td>\n",
              "      <td>560.000000</td>\n",
              "      <td>42.000000</td>\n",
              "      <td>0.000000</td>\n",
              "      <td>0.000000</td>\n",
              "    </tr>\n",
              "    <tr>\n",
              "      <th>75%</th>\n",
              "      <td>7.000000</td>\n",
              "      <td>1.000000</td>\n",
              "      <td>76.000000</td>\n",
              "      <td>208.000000</td>\n",
              "      <td>7.000000</td>\n",
              "      <td>1.000000</td>\n",
              "      <td>0.000000</td>\n",
              "      <td>88.000000</td>\n",
              "      <td>88.000000</td>\n",
              "      <td>2669.000000</td>\n",
              "      <td>701.000000</td>\n",
              "      <td>123.000000</td>\n",
              "      <td>2.000000</td>\n",
              "      <td>1.000000</td>\n",
              "    </tr>\n",
              "    <tr>\n",
              "      <th>max</th>\n",
              "      <td>24.000000</td>\n",
              "      <td>4.000000</td>\n",
              "      <td>97.000000</td>\n",
              "      <td>360.000000</td>\n",
              "      <td>17.000000</td>\n",
              "      <td>2.000000</td>\n",
              "      <td>2.000000</td>\n",
              "      <td>161.000000</td>\n",
              "      <td>161.000000</td>\n",
              "      <td>69548.000000</td>\n",
              "      <td>2981.000000</td>\n",
              "      <td>1797.000000</td>\n",
              "      <td>3.000000</td>\n",
              "      <td>1.000000</td>\n",
              "    </tr>\n",
              "  </tbody>\n",
              "</table>\n",
              "</div>"
            ],
            "text/plain": [
              "       weather_intensity      intensity  ...  condition_of_road  lane_road_accident\n",
              "count      162566.000000  162566.000000  ...      162566.000000       162566.000000\n",
              "mean            4.607999       1.057724  ...           0.773169            0.499563\n",
              "std             3.232133       0.252619  ...           1.277600            0.500001\n",
              "min           -13.000000       1.000000  ...           0.000000            0.000000\n",
              "25%             2.000000       1.000000  ...           0.000000            0.000000\n",
              "50%             5.000000       1.000000  ...           0.000000            0.000000\n",
              "75%             7.000000       1.000000  ...           2.000000            1.000000\n",
              "max            24.000000       4.000000  ...           3.000000            1.000000\n",
              "\n",
              "[8 rows x 14 columns]"
            ]
          },
          "metadata": {
            "tags": []
          },
          "execution_count": 26
        }
      ]
    },
    {
      "cell_type": "markdown",
      "metadata": {
        "id": "h3-OCFsXDT34"
      },
      "source": [
        "**Box Plot**"
      ]
    },
    {
      "cell_type": "code",
      "metadata": {
        "colab": {
          "base_uri": "https://localhost:8080/",
          "height": 1000
        },
        "id": "nuDNyKWDW6lA",
        "outputId": "61f1847d-7321-4dc2-faf9-b6f725654a31"
      },
      "source": [
        "plt.figure(figsize=(15,26))\n",
        "\n",
        "for i, col in enumerate(df5.columns,1):\n",
        "    plt.subplot(12,2, i)\n",
        "    plt.boxplot(df5[col])\n",
        "    plt.xlabel(col)\n",
        "plt.tight_layout()"
      ],
      "execution_count": null,
      "outputs": [
        {
          "output_type": "display_data",
          "data": {
            "image/png": "[encoded data removed]",
            "text/plain": [
              "<Figure size 1080x1872 with 14 Axes>"
            ]
          },
          "metadata": {
            "tags": [],
            "needs_background": "light"
          }
        }
      ]
    },
    {
      "cell_type": "markdown",
      "metadata": {
        "id": "rLATs1YVi0oT"
      },
      "source": [
        "boxplot of individual features 'weight' "
      ]
    },
    {
      "cell_type": "code",
      "metadata": {
        "colab": {
          "base_uri": "https://localhost:8080/",
          "height": 282
        },
        "id": "H3lCAeMD06OF",
        "outputId": "32177fdd-2740-4437-b0a4-31f4a6161645"
      },
      "source": [
        "df5[['weight']].boxplot()"
      ],
      "execution_count": null,
      "outputs": [
        {
          "output_type": "execute_result",
          "data": {
            "text/plain": [
              "<matplotlib.axes._subplots.AxesSubplot at 0x7efece12f150>"
            ]
          },
          "metadata": {
            "tags": []
          },
          "execution_count": 42
        },
        {
          "output_type": "display_data",
          "data": {
            "image/png": "[encoded data removed]",
            "text/plain": [
              "<Figure size 432x288 with 1 Axes>"
            ]
          },
          "metadata": {
            "tags": [],
            "needs_background": "light"
          }
        }
      ]
    },
    {
      "cell_type": "code",
      "metadata": {
        "colab": {
          "base_uri": "https://localhost:8080/"
        },
        "id": "UZy3LTx05GIW",
        "outputId": "70a49bbd-fe09-41a1-e7fc-a0907ca42771"
      },
      "source": [
        "df5['weight'].describe()"
      ],
      "execution_count": null,
      "outputs": [
        {
          "output_type": "execute_result",
          "data": {
            "text/plain": [
              "count    162566.000000\n",
              "mean       5017.562793\n",
              "std        7399.315434\n",
              "min           3.000000\n",
              "25%        1502.000000\n",
              "50%        1862.000000\n",
              "75%        2669.000000\n",
              "max       69548.000000\n",
              "Name: weight, dtype: float64"
            ]
          },
          "metadata": {
            "tags": []
          },
          "execution_count": 43
        }
      ]
    },
    {
      "cell_type": "code",
      "metadata": {
        "id": "rTazmv1q1TQH"
      },
      "source": [
        "#df5['weight']= np.log(df5['weight'])"
      ],
      "execution_count": null,
      "outputs": []
    },
    {
      "cell_type": "code",
      "metadata": {
        "colab": {
          "base_uri": "https://localhost:8080/"
        },
        "id": "FbE6TWLbBHkj",
        "outputId": "7b82a84f-2f2a-4023-a4ad-024eadcd82c1"
      },
      "source": [
        "df5['weight'].describe()"
      ],
      "execution_count": null,
      "outputs": [
        {
          "output_type": "execute_result",
          "data": {
            "text/plain": [
              "count    162566.000000\n",
              "mean       5017.562793\n",
              "std        7399.315434\n",
              "min           3.000000\n",
              "25%        1502.000000\n",
              "50%        1862.000000\n",
              "75%        2669.000000\n",
              "max       69548.000000\n",
              "Name: weight, dtype: float64"
            ]
          },
          "metadata": {
            "tags": []
          },
          "execution_count": 45
        }
      ]
    },
    {
      "cell_type": "code",
      "metadata": {
        "colab": {
          "base_uri": "https://localhost:8080/",
          "height": 283
        },
        "id": "2RSftlld4Edk",
        "outputId": "f6cd4ed4-3f9c-4ece-c88d-1ff77f18bc92"
      },
      "source": [
        "df5[['leng_prec']].boxplot()"
      ],
      "execution_count": null,
      "outputs": [
        {
          "output_type": "execute_result",
          "data": {
            "text/plain": [
              "<matplotlib.axes._subplots.AxesSubplot at 0x7efece40f5d0>"
            ]
          },
          "metadata": {
            "tags": []
          },
          "execution_count": 46
        },
        {
          "output_type": "display_data",
          "data": {
            "image/png": "[encoded data removed]",
            "text/plain": [
              "<Figure size 432x288 with 1 Axes>"
            ]
          },
          "metadata": {
            "tags": [],
            "needs_background": "light"
          }
        }
      ]
    },
    {
      "cell_type": "code",
      "metadata": {
        "colab": {
          "base_uri": "https://localhost:8080/"
        },
        "id": "heUep0Ut4-bP",
        "outputId": "7874993e-13ac-4f61-abc6-ccc34537b6a8"
      },
      "source": [
        "df5['leng_prec'].describe()"
      ],
      "execution_count": null,
      "outputs": [
        {
          "output_type": "execute_result",
          "data": {
            "text/plain": [
              "count    162566.000000\n",
              "mean        790.775285\n",
              "std         481.944297\n",
              "min         102.000000\n",
              "25%         527.000000\n",
              "50%         560.000000\n",
              "75%         701.000000\n",
              "max        2981.000000\n",
              "Name: leng_prec, dtype: float64"
            ]
          },
          "metadata": {
            "tags": []
          },
          "execution_count": 47
        }
      ]
    },
    {
      "cell_type": "code",
      "metadata": {
        "id": "tW1ZErD41Z9g"
      },
      "source": [
        "#df5['leng_prec']= np.log(df5['leng_prec'])"
      ],
      "execution_count": null,
      "outputs": []
    },
    {
      "cell_type": "code",
      "metadata": {
        "colab": {
          "base_uri": "https://localhost:8080/"
        },
        "id": "MNeSNAz4BPMt",
        "outputId": "28266a3c-ac06-47df-88bf-f3099262d24d"
      },
      "source": [
        "df5['leng_prec'].describe()"
      ],
      "execution_count": null,
      "outputs": [
        {
          "output_type": "execute_result",
          "data": {
            "text/plain": [
              "count    162566.000000\n",
              "mean        790.775285\n",
              "std         481.944297\n",
              "min         102.000000\n",
              "25%         527.000000\n",
              "50%         560.000000\n",
              "75%         701.000000\n",
              "max        2981.000000\n",
              "Name: leng_prec, dtype: float64"
            ]
          },
          "metadata": {
            "tags": []
          },
          "execution_count": 49
        }
      ]
    },
    {
      "cell_type": "code",
      "metadata": {
        "colab": {
          "base_uri": "https://localhost:8080/",
          "height": 283
        },
        "id": "svOBmPKJCdBC",
        "outputId": "213cb55d-1869-4adf-b318-1a01af738e7c"
      },
      "source": [
        "df5[['time_gaprec']].boxplot()"
      ],
      "execution_count": null,
      "outputs": [
        {
          "output_type": "execute_result",
          "data": {
            "text/plain": [
              "<matplotlib.axes._subplots.AxesSubplot at 0x7efece2f3510>"
            ]
          },
          "metadata": {
            "tags": []
          },
          "execution_count": 50
        },
        {
          "output_type": "display_data",
          "data": {
            "image/png": "[encoded data removed]",
            "text/plain": [
              "<Figure size 432x288 with 1 Axes>"
            ]
          },
          "metadata": {
            "tags": [],
            "needs_background": "light"
          }
        }
      ]
    },
    {
      "cell_type": "code",
      "metadata": {
        "colab": {
          "base_uri": "https://localhost:8080/"
        },
        "id": "utO0eE8GCuDP",
        "outputId": "7c5ea453-d934-4612-cfe8-816fb387d1ed"
      },
      "source": [
        "df5['time_gaprec'].describe()"
      ],
      "execution_count": null,
      "outputs": [
        {
          "output_type": "execute_result",
          "data": {
            "text/plain": [
              "count    162566.000000\n",
              "mean        103.764656\n",
              "std         176.318944\n",
              "min           1.000000\n",
              "25%           6.000000\n",
              "50%          42.000000\n",
              "75%         123.000000\n",
              "max        1797.000000\n",
              "Name: time_gaprec, dtype: float64"
            ]
          },
          "metadata": {
            "tags": []
          },
          "execution_count": 51
        }
      ]
    },
    {
      "cell_type": "code",
      "metadata": {
        "id": "CyGzRst-Czvq"
      },
      "source": [
        "#df5['time_gaprec']= np.log(df5['time_gaprec'])"
      ],
      "execution_count": null,
      "outputs": []
    },
    {
      "cell_type": "code",
      "metadata": {
        "colab": {
          "base_uri": "https://localhost:8080/"
        },
        "id": "ETuvewBpC2vR",
        "outputId": "b74fae50-b1b7-4ac0-c46d-70c65679d1d0"
      },
      "source": [
        "df5['time_gaprec'].describe()"
      ],
      "execution_count": null,
      "outputs": [
        {
          "output_type": "execute_result",
          "data": {
            "text/plain": [
              "count    162566.000000\n",
              "mean        103.764656\n",
              "std         176.318944\n",
              "min           1.000000\n",
              "25%           6.000000\n",
              "50%          42.000000\n",
              "75%         123.000000\n",
              "max        1797.000000\n",
              "Name: time_gaprec, dtype: float64"
            ]
          },
          "metadata": {
            "tags": []
          },
          "execution_count": 53
        }
      ]
    },
    {
      "cell_type": "code",
      "metadata": {
        "colab": {
          "base_uri": "https://localhost:8080/",
          "height": 283
        },
        "id": "BDmZnIQnC9JY",
        "outputId": "c689faf4-e358-4306-fec3-7bb689eb61e9"
      },
      "source": [
        "df5[['time_gaprec']].boxplot()"
      ],
      "execution_count": null,
      "outputs": [
        {
          "output_type": "execute_result",
          "data": {
            "text/plain": [
              "<matplotlib.axes._subplots.AxesSubplot at 0x7efec57cab90>"
            ]
          },
          "metadata": {
            "tags": []
          },
          "execution_count": 54
        },
        {
          "output_type": "display_data",
          "data": {
            "image/png": "[encoded data removed]",
            "text/plain": [
              "<Figure size 432x288 with 1 Axes>"
            ]
          },
          "metadata": {
            "tags": [],
            "needs_background": "light"
          }
        }
      ]
    },
    {
      "cell_type": "code",
      "metadata": {
        "colab": {
          "base_uri": "https://localhost:8080/"
        },
        "id": "mk4c_QHLORMD",
        "outputId": "ed0b4547-6844-4442-d52c-56babaf54216"
      },
      "source": [
        "df5.columns"
      ],
      "execution_count": 27,
      "outputs": [
        {
          "output_type": "execute_result",
          "data": {
            "text/plain": [
              "Index(['weather_intensity', 'intensity', 'humidity', 'wind_direc',\n",
              "       'wind_speed', 'light_condition', 'percep_type', 'speed', 'speed_prec',\n",
              "       'weight', 'leng_prec', 'time_gaprec', 'condition_of_road',\n",
              "       'lane_road_accident'],\n",
              "      dtype='object')"
            ]
          },
          "metadata": {
            "tags": []
          },
          "execution_count": 27
        }
      ]
    },
    {
      "cell_type": "markdown",
      "metadata": {
        "id": "hjLIh2gImiQk"
      },
      "source": [
        "**Normalization**"
      ]
    },
    {
      "cell_type": "code",
      "metadata": {
        "id": "Ng5eOXvZeRmy"
      },
      "source": [
        "#normalization\n",
        "\n",
        "def normalize(x):\n",
        "  return (x-np.min(x))/(max(x)-min(x))\n",
        "\n",
        "df5=df5.apply(normalize)"
      ],
      "execution_count": 28,
      "outputs": []
    },
    {
      "cell_type": "code",
      "metadata": {
        "colab": {
          "base_uri": "https://localhost:8080/",
          "height": 302
        },
        "id": "aaCTFhIR5yyn",
        "outputId": "eaab0000-7dbd-42cf-d92f-9be75d150de2"
      },
      "source": [
        "df5.describe()"
      ],
      "execution_count": 29,
      "outputs": [
        {
          "output_type": "execute_result",
          "data": {
            "text/html": [
              "<div>\n",
              "<style scoped>\n",
              "    .dataframe tbody tr th:only-of-type {\n",
              "        vertical-align: middle;\n",
              "    }\n",
              "\n",
              "    .dataframe tbody tr th {\n",
              "        vertical-align: top;\n",
              "    }\n",
              "\n",
              "    .dataframe thead th {\n",
              "        text-align: right;\n",
              "    }\n",
              "</style>\n",
              "<table border=\"1\" class=\"dataframe\">\n",
              "  <thead>\n",
              "    <tr style=\"text-align: right;\">\n",
              "      <th></th>\n",
              "      <th>weather_intensity</th>\n",
              "      <th>intensity</th>\n",
              "      <th>humidity</th>\n",
              "      <th>wind_direc</th>\n",
              "      <th>wind_speed</th>\n",
              "      <th>light_condition</th>\n",
              "      <th>percep_type</th>\n",
              "      <th>speed</th>\n",
              "      <th>speed_prec</th>\n",
              "      <th>weight</th>\n",
              "      <th>leng_prec</th>\n",
              "      <th>time_gaprec</th>\n",
              "      <th>condition_of_road</th>\n",
              "      <th>lane_road_accident</th>\n",
              "    </tr>\n",
              "  </thead>\n",
              "  <tbody>\n",
              "    <tr>\n",
              "      <th>count</th>\n",
              "      <td>162566.000000</td>\n",
              "      <td>162566.000000</td>\n",
              "      <td>162566.000000</td>\n",
              "      <td>162566.000000</td>\n",
              "      <td>162566.000000</td>\n",
              "      <td>162566.000000</td>\n",
              "      <td>162566.000000</td>\n",
              "      <td>162566.000000</td>\n",
              "      <td>162566.000000</td>\n",
              "      <td>162566.000000</td>\n",
              "      <td>162566.000000</td>\n",
              "      <td>162566.000000</td>\n",
              "      <td>162566.000000</td>\n",
              "      <td>162566.000000</td>\n",
              "    </tr>\n",
              "    <tr>\n",
              "      <th>mean</th>\n",
              "      <td>0.475892</td>\n",
              "      <td>0.019241</td>\n",
              "      <td>0.548862</td>\n",
              "      <td>0.498387</td>\n",
              "      <td>0.242657</td>\n",
              "      <td>0.409535</td>\n",
              "      <td>0.053058</td>\n",
              "      <td>0.493173</td>\n",
              "      <td>0.518378</td>\n",
              "      <td>0.072105</td>\n",
              "      <td>0.239241</td>\n",
              "      <td>0.057219</td>\n",
              "      <td>0.257723</td>\n",
              "      <td>0.499563</td>\n",
              "    </tr>\n",
              "    <tr>\n",
              "      <th>std</th>\n",
              "      <td>0.087355</td>\n",
              "      <td>0.084206</td>\n",
              "      <td>0.225056</td>\n",
              "      <td>0.249571</td>\n",
              "      <td>0.179284</td>\n",
              "      <td>0.307083</td>\n",
              "      <td>0.204929</td>\n",
              "      <td>0.061275</td>\n",
              "      <td>0.058218</td>\n",
              "      <td>0.106396</td>\n",
              "      <td>0.167400</td>\n",
              "      <td>0.098173</td>\n",
              "      <td>0.425867</td>\n",
              "      <td>0.500001</td>\n",
              "    </tr>\n",
              "    <tr>\n",
              "      <th>min</th>\n",
              "      <td>0.000000</td>\n",
              "      <td>0.000000</td>\n",
              "      <td>0.000000</td>\n",
              "      <td>0.000000</td>\n",
              "      <td>0.000000</td>\n",
              "      <td>0.000000</td>\n",
              "      <td>0.000000</td>\n",
              "      <td>0.000000</td>\n",
              "      <td>0.000000</td>\n",
              "      <td>0.000000</td>\n",
              "      <td>0.000000</td>\n",
              "      <td>0.000000</td>\n",
              "      <td>0.000000</td>\n",
              "      <td>0.000000</td>\n",
              "    </tr>\n",
              "    <tr>\n",
              "      <th>25%</th>\n",
              "      <td>0.405405</td>\n",
              "      <td>0.000000</td>\n",
              "      <td>0.370370</td>\n",
              "      <td>0.412429</td>\n",
              "      <td>0.058824</td>\n",
              "      <td>0.000000</td>\n",
              "      <td>0.000000</td>\n",
              "      <td>0.457516</td>\n",
              "      <td>0.484472</td>\n",
              "      <td>0.021554</td>\n",
              "      <td>0.147621</td>\n",
              "      <td>0.002784</td>\n",
              "      <td>0.000000</td>\n",
              "      <td>0.000000</td>\n",
              "    </tr>\n",
              "    <tr>\n",
              "      <th>50%</th>\n",
              "      <td>0.486486</td>\n",
              "      <td>0.000000</td>\n",
              "      <td>0.506173</td>\n",
              "      <td>0.491525</td>\n",
              "      <td>0.235294</td>\n",
              "      <td>0.500000</td>\n",
              "      <td>0.000000</td>\n",
              "      <td>0.490196</td>\n",
              "      <td>0.515528</td>\n",
              "      <td>0.026731</td>\n",
              "      <td>0.159083</td>\n",
              "      <td>0.022829</td>\n",
              "      <td>0.000000</td>\n",
              "      <td>0.000000</td>\n",
              "    </tr>\n",
              "    <tr>\n",
              "      <th>75%</th>\n",
              "      <td>0.540541</td>\n",
              "      <td>0.000000</td>\n",
              "      <td>0.740741</td>\n",
              "      <td>0.570621</td>\n",
              "      <td>0.411765</td>\n",
              "      <td>0.500000</td>\n",
              "      <td>0.000000</td>\n",
              "      <td>0.522876</td>\n",
              "      <td>0.546584</td>\n",
              "      <td>0.038335</td>\n",
              "      <td>0.208058</td>\n",
              "      <td>0.067929</td>\n",
              "      <td>0.666667</td>\n",
              "      <td>1.000000</td>\n",
              "    </tr>\n",
              "    <tr>\n",
              "      <th>max</th>\n",
              "      <td>1.000000</td>\n",
              "      <td>1.000000</td>\n",
              "      <td>1.000000</td>\n",
              "      <td>1.000000</td>\n",
              "      <td>1.000000</td>\n",
              "      <td>1.000000</td>\n",
              "      <td>1.000000</td>\n",
              "      <td>1.000000</td>\n",
              "      <td>1.000000</td>\n",
              "      <td>1.000000</td>\n",
              "      <td>1.000000</td>\n",
              "      <td>1.000000</td>\n",
              "      <td>1.000000</td>\n",
              "      <td>1.000000</td>\n",
              "    </tr>\n",
              "  </tbody>\n",
              "</table>\n",
              "</div>"
            ],
            "text/plain": [
              "       weather_intensity      intensity  ...  condition_of_road  lane_road_accident\n",
              "count      162566.000000  162566.000000  ...      162566.000000       162566.000000\n",
              "mean            0.475892       0.019241  ...           0.257723            0.499563\n",
              "std             0.087355       0.084206  ...           0.425867            0.500001\n",
              "min             0.000000       0.000000  ...           0.000000            0.000000\n",
              "25%             0.405405       0.000000  ...           0.000000            0.000000\n",
              "50%             0.486486       0.000000  ...           0.000000            0.000000\n",
              "75%             0.540541       0.000000  ...           0.666667            1.000000\n",
              "max             1.000000       1.000000  ...           1.000000            1.000000\n",
              "\n",
              "[8 rows x 14 columns]"
            ]
          },
          "metadata": {
            "tags": []
          },
          "execution_count": 29
        }
      ]
    },
    {
      "cell_type": "markdown",
      "metadata": {
        "id": "30M3mVAwS5iC"
      },
      "source": [
        "**Split Train Test Dataset**"
      ]
    },
    {
      "cell_type": "markdown",
      "metadata": {
        "id": "VS9JXSGzDk9e"
      },
      "source": [
        "Considering road_accident Feature for predication"
      ]
    },
    {
      "cell_type": "code",
      "metadata": {
        "id": "bH5HSb9gXWtr"
      },
      "source": [
        "Y = df5['lane_road_accident']\n",
        "X = df5.drop('lane_road_accident', axis = 1)"
      ],
      "execution_count": 30,
      "outputs": []
    },
    {
      "cell_type": "code",
      "metadata": {
        "colab": {
          "base_uri": "https://localhost:8080/",
          "height": 419
        },
        "id": "0o7Z93jiXXUr",
        "outputId": "4d607f76-1595-4cb6-eb13-9c48106aeb87"
      },
      "source": [
        "X"
      ],
      "execution_count": 31,
      "outputs": [
        {
          "output_type": "execute_result",
          "data": {
            "text/html": [
              "<div>\n",
              "<style scoped>\n",
              "    .dataframe tbody tr th:only-of-type {\n",
              "        vertical-align: middle;\n",
              "    }\n",
              "\n",
              "    .dataframe tbody tr th {\n",
              "        vertical-align: top;\n",
              "    }\n",
              "\n",
              "    .dataframe thead th {\n",
              "        text-align: right;\n",
              "    }\n",
              "</style>\n",
              "<table border=\"1\" class=\"dataframe\">\n",
              "  <thead>\n",
              "    <tr style=\"text-align: right;\">\n",
              "      <th></th>\n",
              "      <th>weather_intensity</th>\n",
              "      <th>intensity</th>\n",
              "      <th>humidity</th>\n",
              "      <th>wind_direc</th>\n",
              "      <th>wind_speed</th>\n",
              "      <th>light_condition</th>\n",
              "      <th>percep_type</th>\n",
              "      <th>speed</th>\n",
              "      <th>speed_prec</th>\n",
              "      <th>weight</th>\n",
              "      <th>leng_prec</th>\n",
              "      <th>time_gaprec</th>\n",
              "      <th>condition_of_road</th>\n",
              "    </tr>\n",
              "  </thead>\n",
              "  <tbody>\n",
              "    <tr>\n",
              "      <th>0</th>\n",
              "      <td>0.540541</td>\n",
              "      <td>0.000000</td>\n",
              "      <td>0.975309</td>\n",
              "      <td>0.395480</td>\n",
              "      <td>0.058824</td>\n",
              "      <td>0.0</td>\n",
              "      <td>0.0</td>\n",
              "      <td>0.477124</td>\n",
              "      <td>0.540373</td>\n",
              "      <td>0.244202</td>\n",
              "      <td>0.291421</td>\n",
              "      <td>0.051782</td>\n",
              "      <td>0.0</td>\n",
              "    </tr>\n",
              "    <tr>\n",
              "      <th>1</th>\n",
              "      <td>0.540541</td>\n",
              "      <td>0.000000</td>\n",
              "      <td>0.975309</td>\n",
              "      <td>0.333333</td>\n",
              "      <td>0.000000</td>\n",
              "      <td>0.0</td>\n",
              "      <td>0.0</td>\n",
              "      <td>0.522876</td>\n",
              "      <td>0.503106</td>\n",
              "      <td>0.024517</td>\n",
              "      <td>0.155957</td>\n",
              "      <td>0.005568</td>\n",
              "      <td>0.0</td>\n",
              "    </tr>\n",
              "    <tr>\n",
              "      <th>2</th>\n",
              "      <td>0.540541</td>\n",
              "      <td>0.000000</td>\n",
              "      <td>0.975309</td>\n",
              "      <td>0.333333</td>\n",
              "      <td>0.000000</td>\n",
              "      <td>0.0</td>\n",
              "      <td>0.0</td>\n",
              "      <td>0.522876</td>\n",
              "      <td>0.546584</td>\n",
              "      <td>0.329125</td>\n",
              "      <td>0.554359</td>\n",
              "      <td>0.001670</td>\n",
              "      <td>0.0</td>\n",
              "    </tr>\n",
              "    <tr>\n",
              "      <th>3</th>\n",
              "      <td>0.540541</td>\n",
              "      <td>0.000000</td>\n",
              "      <td>0.975309</td>\n",
              "      <td>0.333333</td>\n",
              "      <td>0.000000</td>\n",
              "      <td>0.0</td>\n",
              "      <td>0.0</td>\n",
              "      <td>0.496732</td>\n",
              "      <td>0.552795</td>\n",
              "      <td>0.027924</td>\n",
              "      <td>0.153526</td>\n",
              "      <td>0.070156</td>\n",
              "      <td>0.0</td>\n",
              "    </tr>\n",
              "    <tr>\n",
              "      <th>4</th>\n",
              "      <td>0.540541</td>\n",
              "      <td>0.000000</td>\n",
              "      <td>0.975309</td>\n",
              "      <td>0.333333</td>\n",
              "      <td>0.000000</td>\n",
              "      <td>0.0</td>\n",
              "      <td>0.0</td>\n",
              "      <td>0.529412</td>\n",
              "      <td>0.546584</td>\n",
              "      <td>0.198203</td>\n",
              "      <td>0.622091</td>\n",
              "      <td>0.022829</td>\n",
              "      <td>0.0</td>\n",
              "    </tr>\n",
              "    <tr>\n",
              "      <th>...</th>\n",
              "      <td>...</td>\n",
              "      <td>...</td>\n",
              "      <td>...</td>\n",
              "      <td>...</td>\n",
              "      <td>...</td>\n",
              "      <td>...</td>\n",
              "      <td>...</td>\n",
              "      <td>...</td>\n",
              "      <td>...</td>\n",
              "      <td>...</td>\n",
              "      <td>...</td>\n",
              "      <td>...</td>\n",
              "      <td>...</td>\n",
              "    </tr>\n",
              "    <tr>\n",
              "      <th>162561</th>\n",
              "      <td>0.486486</td>\n",
              "      <td>0.333333</td>\n",
              "      <td>0.901235</td>\n",
              "      <td>0.968927</td>\n",
              "      <td>0.176471</td>\n",
              "      <td>0.5</td>\n",
              "      <td>0.5</td>\n",
              "      <td>0.522876</td>\n",
              "      <td>0.540373</td>\n",
              "      <td>0.209562</td>\n",
              "      <td>0.333796</td>\n",
              "      <td>0.001114</td>\n",
              "      <td>0.0</td>\n",
              "    </tr>\n",
              "    <tr>\n",
              "      <th>162562</th>\n",
              "      <td>0.594595</td>\n",
              "      <td>0.333333</td>\n",
              "      <td>0.925926</td>\n",
              "      <td>0.110169</td>\n",
              "      <td>0.470588</td>\n",
              "      <td>0.5</td>\n",
              "      <td>0.5</td>\n",
              "      <td>0.392157</td>\n",
              "      <td>0.515528</td>\n",
              "      <td>0.154217</td>\n",
              "      <td>0.623133</td>\n",
              "      <td>0.068486</td>\n",
              "      <td>0.0</td>\n",
              "    </tr>\n",
              "    <tr>\n",
              "      <th>162563</th>\n",
              "      <td>0.594595</td>\n",
              "      <td>0.333333</td>\n",
              "      <td>0.925926</td>\n",
              "      <td>0.110169</td>\n",
              "      <td>0.470588</td>\n",
              "      <td>0.5</td>\n",
              "      <td>0.5</td>\n",
              "      <td>0.424837</td>\n",
              "      <td>0.546584</td>\n",
              "      <td>0.029377</td>\n",
              "      <td>0.163251</td>\n",
              "      <td>0.021158</td>\n",
              "      <td>0.0</td>\n",
              "    </tr>\n",
              "    <tr>\n",
              "      <th>162564</th>\n",
              "      <td>0.594595</td>\n",
              "      <td>0.666667</td>\n",
              "      <td>0.925926</td>\n",
              "      <td>0.110169</td>\n",
              "      <td>0.470588</td>\n",
              "      <td>0.5</td>\n",
              "      <td>1.0</td>\n",
              "      <td>0.398693</td>\n",
              "      <td>0.422360</td>\n",
              "      <td>0.046603</td>\n",
              "      <td>0.211184</td>\n",
              "      <td>0.000000</td>\n",
              "      <td>0.0</td>\n",
              "    </tr>\n",
              "    <tr>\n",
              "      <th>162565</th>\n",
              "      <td>0.594595</td>\n",
              "      <td>0.666667</td>\n",
              "      <td>0.925926</td>\n",
              "      <td>0.110169</td>\n",
              "      <td>0.470588</td>\n",
              "      <td>0.5</td>\n",
              "      <td>1.0</td>\n",
              "      <td>0.509804</td>\n",
              "      <td>0.453416</td>\n",
              "      <td>0.016737</td>\n",
              "      <td>0.150399</td>\n",
              "      <td>0.059020</td>\n",
              "      <td>0.0</td>\n",
              "    </tr>\n",
              "  </tbody>\n",
              "</table>\n",
              "<p>162566 rows × 13 columns</p>\n",
              "</div>"
            ],
            "text/plain": [
              "        weather_intensity  intensity  ...  time_gaprec  condition_of_road\n",
              "0                0.540541   0.000000  ...     0.051782                0.0\n",
              "1                0.540541   0.000000  ...     0.005568                0.0\n",
              "2                0.540541   0.000000  ...     0.001670                0.0\n",
              "3                0.540541   0.000000  ...     0.070156                0.0\n",
              "4                0.540541   0.000000  ...     0.022829                0.0\n",
              "...                   ...        ...  ...          ...                ...\n",
              "162561           0.486486   0.333333  ...     0.001114                0.0\n",
              "162562           0.594595   0.333333  ...     0.068486                0.0\n",
              "162563           0.594595   0.333333  ...     0.021158                0.0\n",
              "162564           0.594595   0.666667  ...     0.000000                0.0\n",
              "162565           0.594595   0.666667  ...     0.059020                0.0\n",
              "\n",
              "[162566 rows x 13 columns]"
            ]
          },
          "metadata": {
            "tags": []
          },
          "execution_count": 31
        }
      ]
    },
    {
      "cell_type": "code",
      "metadata": {
        "id": "DUI4gBsYWB6s"
      },
      "source": [
        "from sklearn.model_selection import train_test_split"
      ],
      "execution_count": 32,
      "outputs": []
    },
    {
      "cell_type": "code",
      "metadata": {
        "id": "w0ng-B2IXoTm"
      },
      "source": [
        "\n",
        "x_train,x_test,y_train,y_test = train_test_split(X,Y, test_size  = 0.25, random_state =7)"
      ],
      "execution_count": 33,
      "outputs": []
    },
    {
      "cell_type": "code",
      "metadata": {
        "colab": {
          "base_uri": "https://localhost:8080/"
        },
        "id": "4VR5VvRfXyMQ",
        "outputId": "12fb8036-d2c8-4dc2-f465-59c4c2f5aa76"
      },
      "source": [
        "x_train.shape,x_test.shape"
      ],
      "execution_count": 34,
      "outputs": [
        {
          "output_type": "execute_result",
          "data": {
            "text/plain": [
              "((121924, 13), (40642, 13))"
            ]
          },
          "metadata": {
            "tags": []
          },
          "execution_count": 34
        }
      ]
    },
    {
      "cell_type": "markdown",
      "metadata": {
        "id": "jm-ZngEH7RBf"
      },
      "source": [
        "**Correlation of x_train**\n",
        "\n",
        "**heatmap**"
      ]
    },
    {
      "cell_type": "code",
      "metadata": {
        "colab": {
          "base_uri": "https://localhost:8080/",
          "height": 947
        },
        "id": "1J7opcgGV5y4",
        "outputId": "2b878cd8-e738-4954-edd1-df7cc385fec0"
      },
      "source": [
        "import seaborn as sns\n",
        "plt.figure(figsize=(15,15))\n",
        "cor=x_train.corr()\n",
        "sns.heatmap(cor, annot=True,cmap=plt.cm.CMRmap_r)\n",
        "plt.show()"
      ],
      "execution_count": 35,
      "outputs": [
        {
          "output_type": "display_data",
          "data": {
            "image/png": "[encoded data removed]",
            "text/plain": [
              "<Figure size 1080x1080 with 2 Axes>"
            ]
          },
          "metadata": {
            "tags": [],
            "needs_background": "light"
          }
        }
      ]
    },
    {
      "cell_type": "code",
      "metadata": {
        "id": "T549GvDIYPhh"
      },
      "source": [
        "def corr(x,threshold):\n",
        "  col_corr=set()\n",
        "  corr_matrix=x.corr()\n",
        "  for i in range(len(corr_matrix.columns)):\n",
        "    for j in range(i):\n",
        "      if (corr_matrix.iloc[i,j]) >threshold:\n",
        "        colname=corr_matrix.columns[i]\n",
        "        col_corr.add(colname)\n",
        "  return col_corr\n",
        "\n"
      ],
      "execution_count": null,
      "outputs": []
    },
    {
      "cell_type": "code",
      "metadata": {
        "colab": {
          "base_uri": "https://localhost:8080/"
        },
        "id": "Jqx8lVteZ0rw",
        "outputId": "91b86e8a-1295-4078-8daa-9a9f0ef351e4"
      },
      "source": [
        "corr_features=corr(x_train,0.7)\n",
        "len(set((corr_features)))"
      ],
      "execution_count": null,
      "outputs": [
        {
          "output_type": "execute_result",
          "data": {
            "text/plain": [
              "2"
            ]
          },
          "metadata": {
            "tags": []
          },
          "execution_count": 66
        }
      ]
    },
    {
      "cell_type": "code",
      "metadata": {
        "colab": {
          "base_uri": "https://localhost:8080/"
        },
        "id": "BIJulF97aLmL",
        "outputId": "25fda579-7e72-4820-c761-b57b684b59c5"
      },
      "source": [
        "corr_features"
      ],
      "execution_count": null,
      "outputs": [
        {
          "output_type": "execute_result",
          "data": {
            "text/plain": [
              "{'leng_prec', 'percep_type'}"
            ]
          },
          "metadata": {
            "tags": []
          },
          "execution_count": 67
        }
      ]
    },
    {
      "cell_type": "code",
      "metadata": {
        "colab": {
          "base_uri": "https://localhost:8080/"
        },
        "id": "J_1D6zCiba87",
        "outputId": "d1266ed9-b9df-4a8a-ee96-c16cac5342b7"
      },
      "source": [
        "x_train.shape,x_test.shape"
      ],
      "execution_count": null,
      "outputs": [
        {
          "output_type": "execute_result",
          "data": {
            "text/plain": [
              "((121924, 13), (40642, 13))"
            ]
          },
          "metadata": {
            "tags": []
          },
          "execution_count": 68
        }
      ]
    },
    {
      "cell_type": "markdown",
      "metadata": {
        "id": "WDfshxsYD4i0"
      },
      "source": [
        "**Applying Algorithms**"
      ]
    },
    {
      "cell_type": "markdown",
      "metadata": {
        "id": "KGKRF8jbd1MS"
      },
      "source": [
        "**Logistic Regression**"
      ]
    },
    {
      "cell_type": "code",
      "metadata": {
        "colab": {
          "base_uri": "https://localhost:8080/"
        },
        "id": "--x8IA-ZeV1x",
        "outputId": "cf3aa104-1f68-49e4-ca4a-25eacce3c73c"
      },
      "source": [
        "from sklearn.metrics import accuracy_score\n",
        "from sklearn.linear_model import LogisticRegression\n",
        "from sklearn.metrics import roc_auc_score\n",
        "from sklearn.metrics import roc_curve\n",
        "log_model = LogisticRegression()\n",
        "#fit the model\n",
        "log_model.fit(x_train, y_train)\n",
        "y_t1=log_model.predict(x_test)\n",
        "y_t2=log_model.predict(x_train)\n",
        "#evaluate model\n",
        "score=accuracy_score(y_test,y_t1)\n",
        "score1=accuracy_score(y_train,y_t2)\n",
        "print(score)\n",
        "print(score1)"
      ],
      "execution_count": null,
      "outputs": [
        {
          "output_type": "stream",
          "text": [
            "0.6340485212341912\n",
            "0.6348791050162397\n"
          ],
          "name": "stdout"
        }
      ]
    },
    {
      "cell_type": "markdown",
      "metadata": {
        "id": "fZId3Je9_EzA"
      },
      "source": [
        "**ROC CURVE**"
      ]
    },
    {
      "cell_type": "code",
      "metadata": {
        "id": "FqZnFHmB5cUz"
      },
      "source": [
        "from sklearn.metrics import roc_curve\n",
        "\n",
        "# roc curve for models\n",
        "fpr1, tpr1, thresh1 = roc_curve(y_test, y_t1, pos_label=1)\n",
        "#fpr2, tpr2, thresh2 = roc_curve(y_test, pred_prob2[:,1], pos_label=1)\n",
        "\n",
        "# roc curve for tpr = fpr \n",
        "random_probs = [0 for i in range(len(y_test))]\n",
        "p_fpr, p_tpr, _ = roc_curve(y_test, random_probs, pos_label=1)"
      ],
      "execution_count": null,
      "outputs": []
    },
    {
      "cell_type": "code",
      "metadata": {
        "colab": {
          "base_uri": "https://localhost:8080/",
          "height": 376
        },
        "id": "cWhY9bWfSBHF",
        "outputId": "4f370044-5275-48ed-932c-f977b9f965c9"
      },
      "source": [
        "import matplotlib.pyplot as plt\n",
        "\n",
        "\n",
        "# plot roc curves\n",
        "plt.plot(fpr1, tpr1, linestyle='--',color='orange', label='Logistic Regression')\n",
        "plt.plot(p_fpr, p_tpr, linestyle='--', color='blue')\n",
        "# title\n",
        "plt.title('ROC curve')\n",
        "# x label\n",
        "plt.xlabel('False Positive Rate')\n",
        "# y label\n",
        "plt.ylabel('True Positive rate')\n",
        "plt.legend(loc='best')\n",
        "plt.show();"
      ],
      "execution_count": null,
      "outputs": [
        {
          "output_type": "display_data",
          "data": {
            "image/png": "[encoded data removed]",
            "text/plain": [
              "<Figure size 576x396 with 1 Axes>"
            ]
          },
          "metadata": {
            "tags": []
          }
        }
      ]
    },
    {
      "cell_type": "markdown",
      "metadata": {
        "id": "76nh-O6cEBce"
      },
      "source": [
        "**After Tunning**"
      ]
    },
    {
      "cell_type": "code",
      "metadata": {
        "colab": {
          "base_uri": "https://localhost:8080/",
          "height": 77
        },
        "id": "283_0hlifty_",
        "outputId": "f47ed973-ddc6-4c95-8551-eb7fb639b818"
      },
      "source": [
        "from sklearn.linear_model import LogisticRegression\n",
        "from sklearn.model_selection import RepeatedStratifiedKFold\n",
        "from sklearn.model_selection import GridSearchCV\n",
        "\n",
        "solvers=['newton-cg','lbfgs','liblinear']\n",
        "penalty=['l2']\n",
        "c_values=[100,10,1.0,0.1,0.01,1000]\n",
        "grid=dict(solver=solvers,penalty=penalty,C=c_values)\n",
        "model_params={\n",
        "    'logistic':{\n",
        "        'model':LogisticRegression(),\n",
        "        'params':grid\n",
        "    }\n",
        "    \n",
        "}\n",
        "\n",
        "scores=[]\n",
        "\n",
        "for model_name,mp in model_params.items():\n",
        "  clf1=GridSearchCV(mp['model'],mp['params'],cv=10,return_train_score=False)\n",
        "  clf1.fit(x_test,y_test)\n",
        "  scores.append({\n",
        "      'model':model_name,\n",
        "      'best_score':clf1.best_score_,\n",
        "      'best_params':clf1.best_params_\n",
        "  })\n",
        "logistic_df=pd.DataFrame(scores,columns=['model','best_score','best_params'])\n",
        "logistic_df\n"
      ],
      "execution_count": null,
      "outputs": [
        {
          "output_type": "execute_result",
          "data": {
            "text/html": [
              "<div>\n",
              "<style scoped>\n",
              "    .dataframe tbody tr th:only-of-type {\n",
              "        vertical-align: middle;\n",
              "    }\n",
              "\n",
              "    .dataframe tbody tr th {\n",
              "        vertical-align: top;\n",
              "    }\n",
              "\n",
              "    .dataframe thead th {\n",
              "        text-align: right;\n",
              "    }\n",
              "</style>\n",
              "<table border=\"1\" class=\"dataframe\">\n",
              "  <thead>\n",
              "    <tr style=\"text-align: right;\">\n",
              "      <th></th>\n",
              "      <th>model</th>\n",
              "      <th>best_score</th>\n",
              "      <th>best_params</th>\n",
              "    </tr>\n",
              "  </thead>\n",
              "  <tbody>\n",
              "    <tr>\n",
              "      <th>0</th>\n",
              "      <td>logistic</td>\n",
              "      <td>0.634737</td>\n",
              "      <td>{'C': 1000, 'penalty': 'l2', 'solver': 'newton...</td>\n",
              "    </tr>\n",
              "  </tbody>\n",
              "</table>\n",
              "</div>"
            ],
            "text/plain": [
              "      model  best_score                                        best_params\n",
              "0  logistic    0.634737  {'C': 1000, 'penalty': 'l2', 'solver': 'newton..."
            ]
          },
          "metadata": {
            "tags": []
          },
          "execution_count": 70
        }
      ]
    },
    {
      "cell_type": "markdown",
      "metadata": {
        "id": "sq4v2yHuq7tF"
      },
      "source": [
        "Accuracy2=63.47%"
      ]
    },
    {
      "cell_type": "markdown",
      "metadata": {
        "id": "yfqykc9lB4Nv"
      },
      "source": [
        "# Ridge Classifier"
      ]
    },
    {
      "cell_type": "code",
      "metadata": {
        "id": "01wFVpHbB9X0"
      },
      "source": [
        "from sklearn.linear_model import RidgeClassifier\n",
        "rc = RidgeClassifier(alpha=1, normalize=True)\n",
        "rc.fit(x_train, y_train)\n",
        "rc_pred = rc.predict(x_test)"
      ],
      "execution_count": null,
      "outputs": []
    },
    {
      "cell_type": "code",
      "metadata": {
        "colab": {
          "base_uri": "https://localhost:8080/"
        },
        "id": "CuDr4oE6CADA",
        "outputId": "a54d3d47-faca-4d7d-e732-9b51d973146d"
      },
      "source": [
        "from sklearn.metrics import accuracy_score,confusion_matrix\n",
        "import sklearn.metrics as metrics\n",
        "print(confusion_matrix(y_test,rc_pred))\n",
        "print(metrics.accuracy_score(y_test,rc_pred))\n",
        "print(metrics.recall_score(y_test,rc_pred))\n",
        "print(metrics.precision_score(y_test,rc_pred))\n",
        "print(metrics.f1_score(y_test,rc_pred))"
      ],
      "execution_count": null,
      "outputs": [
        {
          "output_type": "stream",
          "text": [
            "[[12905  7520]\n",
            " [ 7322 12895]]\n",
            "0.6348112789724916\n",
            "0.637829549389128\n",
            "0.6316433994611805\n",
            "0.6347214018507581\n"
          ],
          "name": "stdout"
        }
      ]
    },
    {
      "cell_type": "code",
      "metadata": {
        "colab": {
          "base_uri": "https://localhost:8080/"
        },
        "id": "Tvw44PYqC4RL",
        "outputId": "89228959-3d6b-48a3-c8ab-e063f649eecc"
      },
      "source": [
        "from sklearn.linear_model import RidgeClassifier\n",
        "rc = RidgeClassifier(alpha=1,normalize=True)\n",
        "rc.fit(x_train, y_train)"
      ],
      "execution_count": null,
      "outputs": [
        {
          "output_type": "execute_result",
          "data": {
            "text/plain": [
              "RidgeClassifier(alpha=1, class_weight=None, copy_X=True, fit_intercept=True,\n",
              "                max_iter=None, normalize=True, random_state=None, solver='auto',\n",
              "                tol=0.001)"
            ]
          },
          "metadata": {
            "tags": []
          },
          "execution_count": 73
        }
      ]
    },
    {
      "cell_type": "code",
      "metadata": {
        "colab": {
          "base_uri": "https://localhost:8080/"
        },
        "id": "qlAfoYGhDI8t",
        "outputId": "8225af55-81f9-4a90-f0ca-882a12c72fde"
      },
      "source": [
        "param_rc={\n",
        "    \n",
        "    'max_iter':range(5,20),\n",
        "    'alpha':[0.1,0.2,0.3,0.4,0.5,0.6,0.7,0.8,0.9,1.0,1.5],\n",
        "    'normalize':[True,False],\n",
        "    #'tol':[1e-2,1e-4,1e-6,1e-8,1e-10]\n",
        "    'solver':['svd','sparse_cg']\n",
        "\n",
        "    \n",
        "    }\n",
        "rc_grid=GridSearchCV(estimator=rc,param_grid=param_rc,cv=5,verbose=1)\n",
        "rc_grid.fit(x_train,y_train)"
      ],
      "execution_count": null,
      "outputs": [
        {
          "output_type": "stream",
          "text": [
            "Fitting 5 folds for each of 660 candidates, totalling 3300 fits\n"
          ],
          "name": "stdout"
        },
        {
          "output_type": "stream",
          "text": [
            "[Parallel(n_jobs=1)]: Using backend SequentialBackend with 1 concurrent workers.\n",
            "[Parallel(n_jobs=1)]: Done 3300 out of 3300 | elapsed:  6.9min finished\n"
          ],
          "name": "stderr"
        },
        {
          "output_type": "execute_result",
          "data": {
            "text/plain": [
              "GridSearchCV(cv=5, error_score=nan,\n",
              "             estimator=RidgeClassifier(alpha=1, class_weight=None, copy_X=True,\n",
              "                                       fit_intercept=True, max_iter=None,\n",
              "                                       normalize=True, random_state=None,\n",
              "                                       solver='auto', tol=0.001),\n",
              "             iid='deprecated', n_jobs=None,\n",
              "             param_grid={'alpha': [0.1, 0.2, 0.3, 0.4, 0.5, 0.6, 0.7, 0.8, 0.9,\n",
              "                                   1.0, 1.5],\n",
              "                         'max_iter': range(5, 20), 'normalize': [True, False],\n",
              "                         'solver': ['svd', 'sparse_cg']},\n",
              "             pre_dispatch='2*n_jobs', refit=True, return_train_score=False,\n",
              "             scoring=None, verbose=1)"
            ]
          },
          "metadata": {
            "tags": []
          },
          "execution_count": 74
        }
      ]
    },
    {
      "cell_type": "code",
      "metadata": {
        "colab": {
          "base_uri": "https://localhost:8080/"
        },
        "id": "doAqmL0BC-Lw",
        "outputId": "778d7990-e461-4aff-ad34-29174257d5de"
      },
      "source": [
        "from sklearn.linear_model import RidgeClassifier\n",
        "rct = RidgeClassifier(alpha=1,max_iter=20,solver='sparse_cg',random_state=9)\n",
        "rct.fit(x_train, y_train)\n",
        "rct_pred = rct.predict(x_test)\n",
        "print(confusion_matrix(y_test,rct_pred))\n",
        "print(metrics.accuracy_score(y_test,rct_pred))\n",
        "print(metrics.recall_score(y_test,rct_pred))\n",
        "print(metrics.precision_score(y_test,rct_pred))\n",
        "print(metrics.f1_score(y_test,rct_pred))"
      ],
      "execution_count": null,
      "outputs": [
        {
          "output_type": "stream",
          "text": [
            "[[12902  7523]\n",
            " [ 7365 12852]]\n",
            "0.6336794449092072\n",
            "0.6357026265024485\n",
            "0.6307730061349693\n",
            "0.6332282223098148\n"
          ],
          "name": "stdout"
        }
      ]
    },
    {
      "cell_type": "markdown",
      "metadata": {
        "id": "FAOeOth_5kzO"
      },
      "source": [
        "# **Decision Tree**"
      ]
    },
    {
      "cell_type": "code",
      "metadata": {
        "colab": {
          "base_uri": "https://localhost:8080/"
        },
        "id": "zJ1On8My13Zw",
        "outputId": "7bc00067-6f50-4035-87d2-05d3a6cf01c4"
      },
      "source": [
        "from sklearn.tree import DecisionTreeClassifier\n",
        "\n",
        "dt_default=DecisionTreeClassifier(criterion='entropy',random_state=3)\n",
        "dt_default.fit(x_train,y_train)\n"
      ],
      "execution_count": null,
      "outputs": [
        {
          "output_type": "execute_result",
          "data": {
            "text/plain": [
              "DecisionTreeClassifier(ccp_alpha=0.0, class_weight=None, criterion='entropy',\n",
              "                       max_depth=None, max_features=None, max_leaf_nodes=None,\n",
              "                       min_impurity_decrease=0.0, min_impurity_split=None,\n",
              "                       min_samples_leaf=1, min_samples_split=2,\n",
              "                       min_weight_fraction_leaf=0.0, presort='deprecated',\n",
              "                       random_state=3, splitter='best')"
            ]
          },
          "metadata": {
            "tags": []
          },
          "execution_count": 76
        }
      ]
    },
    {
      "cell_type": "code",
      "metadata": {
        "id": "z73AIXCW16gZ"
      },
      "source": [
        "dt_default_pred=dt_default.predict(x_test)"
      ],
      "execution_count": null,
      "outputs": []
    },
    {
      "cell_type": "code",
      "metadata": {
        "colab": {
          "base_uri": "https://localhost:8080/"
        },
        "id": "0ScLZooDDe-2",
        "outputId": "58208a6c-53e4-44b5-adc3-e595fedc53b4"
      },
      "source": [
        "confusion_matrix(y_test,dt_default_pred)"
      ],
      "execution_count": null,
      "outputs": [
        {
          "output_type": "execute_result",
          "data": {
            "text/plain": [
              "array([[12542,  7883],\n",
              "       [ 7856, 12361]])"
            ]
          },
          "metadata": {
            "tags": []
          },
          "execution_count": 78
        }
      ]
    },
    {
      "cell_type": "code",
      "metadata": {
        "colab": {
          "base_uri": "https://localhost:8080/"
        },
        "id": "7GblPc2YDhoe",
        "outputId": "e35224d4-ee32-443c-88e8-8ffd1c0400cf"
      },
      "source": [
        "metrics.accuracy_score(y_test,dt_default_pred)"
      ],
      "execution_count": null,
      "outputs": [
        {
          "output_type": "execute_result",
          "data": {
            "text/plain": [
              "0.6127405147384479"
            ]
          },
          "metadata": {
            "tags": []
          },
          "execution_count": 79
        }
      ]
    },
    {
      "cell_type": "markdown",
      "metadata": {
        "id": "NnFGMs3qD4bi"
      },
      "source": [
        "Hyper tunning"
      ]
    },
    {
      "cell_type": "code",
      "metadata": {
        "colab": {
          "base_uri": "https://localhost:8080/"
        },
        "id": "eZHhNYBSEEEG",
        "outputId": "e8bfaf97-8b83-4a7e-effc-1c46baa16972"
      },
      "source": [
        "from sklearn.tree import DecisionTreeClassifier\n",
        "\n",
        "\n",
        "# Setup the parameters and distributions to sample from: param_dist\n",
        "param_dist = {\"max_depth\": range(10,25,5),\n",
        "              \"min_samples_split\": range(50,200,25),\n",
        "              \"min_samples_leaf\": range(50,200,25),\n",
        "              \"criterion\": [\"gini\", \"entropy\"]}\n",
        "\n",
        "# Instantiate a Decision Tree classifier: tree\n",
        "dtree = DecisionTreeClassifier(random_state=7)\n",
        "\n",
        "\n",
        "dtree_cv = GridSearchCV(dtree, param_dist, cv=5,verbose=1\n",
        "                        ,return_train_score=True)\n",
        "\n",
        "# Fit it to the data\n",
        "dtree_cv.fit(x_train,y_train)"
      ],
      "execution_count": null,
      "outputs": [
        {
          "output_type": "stream",
          "text": [
            "Fitting 5 folds for each of 216 candidates, totalling 1080 fits\n"
          ],
          "name": "stdout"
        },
        {
          "output_type": "stream",
          "text": [
            "[Parallel(n_jobs=1)]: Using backend SequentialBackend with 1 concurrent workers.\n",
            "[Parallel(n_jobs=1)]: Done 1080 out of 1080 | elapsed: 11.4min finished\n"
          ],
          "name": "stderr"
        },
        {
          "output_type": "execute_result",
          "data": {
            "text/plain": [
              "GridSearchCV(cv=5, error_score=nan,\n",
              "             estimator=DecisionTreeClassifier(ccp_alpha=0.0, class_weight=None,\n",
              "                                              criterion='gini', max_depth=None,\n",
              "                                              max_features=None,\n",
              "                                              max_leaf_nodes=None,\n",
              "                                              min_impurity_decrease=0.0,\n",
              "                                              min_impurity_split=None,\n",
              "                                              min_samples_leaf=1,\n",
              "                                              min_samples_split=2,\n",
              "                                              min_weight_fraction_leaf=0.0,\n",
              "                                              presort='deprecated',\n",
              "                                              random_state=7, splitter='best'),\n",
              "             iid='deprecated', n_jobs=None,\n",
              "             param_grid={'criterion': ['gini', 'entropy'],\n",
              "                         'max_depth': range(10, 25, 5),\n",
              "                         'min_samples_leaf': range(50, 200, 25),\n",
              "                         'min_samples_split': range(50, 200, 25)},\n",
              "             pre_dispatch='2*n_jobs', refit=True, return_train_score=True,\n",
              "             scoring=None, verbose=1)"
            ]
          },
          "metadata": {
            "tags": []
          },
          "execution_count": 80
        }
      ]
    },
    {
      "cell_type": "code",
      "metadata": {
        "colab": {
          "base_uri": "https://localhost:8080/",
          "height": 1000
        },
        "id": "pEXqmqBYEHx8",
        "outputId": "fcba0e86-622c-4135-bfd9-d08cb2b7a99d"
      },
      "source": [
        "dtree_scores=pd.DataFrame(dtree_cv.cv_results_)\n",
        "dtree_scores"
      ],
      "execution_count": null,
      "outputs": [
        {
          "output_type": "execute_result",
          "data": {
            "text/html": [
              "<div>\n",
              "<style scoped>\n",
              "    .dataframe tbody tr th:only-of-type {\n",
              "        vertical-align: middle;\n",
              "    }\n",
              "\n",
              "    .dataframe tbody tr th {\n",
              "        vertical-align: top;\n",
              "    }\n",
              "\n",
              "    .dataframe thead th {\n",
              "        text-align: right;\n",
              "    }\n",
              "</style>\n",
              "<table border=\"1\" class=\"dataframe\">\n",
              "  <thead>\n",
              "    <tr style=\"text-align: right;\">\n",
              "      <th></th>\n",
              "      <th>mean_fit_time</th>\n",
              "      <th>std_fit_time</th>\n",
              "      <th>mean_score_time</th>\n",
              "      <th>std_score_time</th>\n",
              "      <th>param_criterion</th>\n",
              "      <th>param_max_depth</th>\n",
              "      <th>param_min_samples_leaf</th>\n",
              "      <th>param_min_samples_split</th>\n",
              "      <th>params</th>\n",
              "      <th>split0_test_score</th>\n",
              "      <th>split1_test_score</th>\n",
              "      <th>split2_test_score</th>\n",
              "      <th>split3_test_score</th>\n",
              "      <th>split4_test_score</th>\n",
              "      <th>mean_test_score</th>\n",
              "      <th>std_test_score</th>\n",
              "      <th>rank_test_score</th>\n",
              "      <th>split0_train_score</th>\n",
              "      <th>split1_train_score</th>\n",
              "      <th>split2_train_score</th>\n",
              "      <th>split3_train_score</th>\n",
              "      <th>split4_train_score</th>\n",
              "      <th>mean_train_score</th>\n",
              "      <th>std_train_score</th>\n",
              "    </tr>\n",
              "  </thead>\n",
              "  <tbody>\n",
              "    <tr>\n",
              "      <th>0</th>\n",
              "      <td>0.551985</td>\n",
              "      <td>0.008219</td>\n",
              "      <td>0.007840</td>\n",
              "      <td>0.000082</td>\n",
              "      <td>gini</td>\n",
              "      <td>10</td>\n",
              "      <td>50</td>\n",
              "      <td>50</td>\n",
              "      <td>{'criterion': 'gini', 'max_depth': 10, 'min_sa...</td>\n",
              "      <td>0.669879</td>\n",
              "      <td>0.676769</td>\n",
              "      <td>0.671560</td>\n",
              "      <td>0.669100</td>\n",
              "      <td>0.676099</td>\n",
              "      <td>0.672681</td>\n",
              "      <td>0.003172</td>\n",
              "      <td>171</td>\n",
              "      <td>0.701401</td>\n",
              "      <td>0.696839</td>\n",
              "      <td>0.698746</td>\n",
              "      <td>0.699382</td>\n",
              "      <td>0.696883</td>\n",
              "      <td>0.698650</td>\n",
              "      <td>0.001704</td>\n",
              "    </tr>\n",
              "    <tr>\n",
              "      <th>1</th>\n",
              "      <td>0.550676</td>\n",
              "      <td>0.011935</td>\n",
              "      <td>0.008492</td>\n",
              "      <td>0.000588</td>\n",
              "      <td>gini</td>\n",
              "      <td>10</td>\n",
              "      <td>50</td>\n",
              "      <td>75</td>\n",
              "      <td>{'criterion': 'gini', 'max_depth': 10, 'min_sa...</td>\n",
              "      <td>0.669879</td>\n",
              "      <td>0.676769</td>\n",
              "      <td>0.671560</td>\n",
              "      <td>0.669100</td>\n",
              "      <td>0.676099</td>\n",
              "      <td>0.672681</td>\n",
              "      <td>0.003172</td>\n",
              "      <td>171</td>\n",
              "      <td>0.701401</td>\n",
              "      <td>0.696839</td>\n",
              "      <td>0.698746</td>\n",
              "      <td>0.699382</td>\n",
              "      <td>0.696883</td>\n",
              "      <td>0.698650</td>\n",
              "      <td>0.001704</td>\n",
              "    </tr>\n",
              "    <tr>\n",
              "      <th>2</th>\n",
              "      <td>0.546195</td>\n",
              "      <td>0.004315</td>\n",
              "      <td>0.007884</td>\n",
              "      <td>0.000044</td>\n",
              "      <td>gini</td>\n",
              "      <td>10</td>\n",
              "      <td>50</td>\n",
              "      <td>100</td>\n",
              "      <td>{'criterion': 'gini', 'max_depth': 10, 'min_sa...</td>\n",
              "      <td>0.669879</td>\n",
              "      <td>0.676769</td>\n",
              "      <td>0.671560</td>\n",
              "      <td>0.669100</td>\n",
              "      <td>0.676099</td>\n",
              "      <td>0.672681</td>\n",
              "      <td>0.003172</td>\n",
              "      <td>171</td>\n",
              "      <td>0.701401</td>\n",
              "      <td>0.696839</td>\n",
              "      <td>0.698746</td>\n",
              "      <td>0.699382</td>\n",
              "      <td>0.696883</td>\n",
              "      <td>0.698650</td>\n",
              "      <td>0.001704</td>\n",
              "    </tr>\n",
              "    <tr>\n",
              "      <th>3</th>\n",
              "      <td>0.542918</td>\n",
              "      <td>0.006077</td>\n",
              "      <td>0.008297</td>\n",
              "      <td>0.000805</td>\n",
              "      <td>gini</td>\n",
              "      <td>10</td>\n",
              "      <td>50</td>\n",
              "      <td>125</td>\n",
              "      <td>{'criterion': 'gini', 'max_depth': 10, 'min_sa...</td>\n",
              "      <td>0.669141</td>\n",
              "      <td>0.676399</td>\n",
              "      <td>0.671068</td>\n",
              "      <td>0.669592</td>\n",
              "      <td>0.675812</td>\n",
              "      <td>0.672403</td>\n",
              "      <td>0.003096</td>\n",
              "      <td>181</td>\n",
              "      <td>0.700397</td>\n",
              "      <td>0.696439</td>\n",
              "      <td>0.697926</td>\n",
              "      <td>0.698572</td>\n",
              "      <td>0.696463</td>\n",
              "      <td>0.697959</td>\n",
              "      <td>0.001474</td>\n",
              "    </tr>\n",
              "    <tr>\n",
              "      <th>4</th>\n",
              "      <td>0.536171</td>\n",
              "      <td>0.004428</td>\n",
              "      <td>0.007973</td>\n",
              "      <td>0.000280</td>\n",
              "      <td>gini</td>\n",
              "      <td>10</td>\n",
              "      <td>50</td>\n",
              "      <td>150</td>\n",
              "      <td>{'criterion': 'gini', 'max_depth': 10, 'min_sa...</td>\n",
              "      <td>0.668649</td>\n",
              "      <td>0.677958</td>\n",
              "      <td>0.671601</td>\n",
              "      <td>0.670002</td>\n",
              "      <td>0.676140</td>\n",
              "      <td>0.672870</td>\n",
              "      <td>0.003584</td>\n",
              "      <td>169</td>\n",
              "      <td>0.699515</td>\n",
              "      <td>0.695230</td>\n",
              "      <td>0.697516</td>\n",
              "      <td>0.697916</td>\n",
              "      <td>0.695592</td>\n",
              "      <td>0.697154</td>\n",
              "      <td>0.001577</td>\n",
              "    </tr>\n",
              "    <tr>\n",
              "      <th>...</th>\n",
              "      <td>...</td>\n",
              "      <td>...</td>\n",
              "      <td>...</td>\n",
              "      <td>...</td>\n",
              "      <td>...</td>\n",
              "      <td>...</td>\n",
              "      <td>...</td>\n",
              "      <td>...</td>\n",
              "      <td>...</td>\n",
              "      <td>...</td>\n",
              "      <td>...</td>\n",
              "      <td>...</td>\n",
              "      <td>...</td>\n",
              "      <td>...</td>\n",
              "      <td>...</td>\n",
              "      <td>...</td>\n",
              "      <td>...</td>\n",
              "      <td>...</td>\n",
              "      <td>...</td>\n",
              "      <td>...</td>\n",
              "      <td>...</td>\n",
              "      <td>...</td>\n",
              "      <td>...</td>\n",
              "      <td>...</td>\n",
              "    </tr>\n",
              "    <tr>\n",
              "      <th>211</th>\n",
              "      <td>0.584985</td>\n",
              "      <td>0.006817</td>\n",
              "      <td>0.007952</td>\n",
              "      <td>0.000113</td>\n",
              "      <td>entropy</td>\n",
              "      <td>20</td>\n",
              "      <td>175</td>\n",
              "      <td>75</td>\n",
              "      <td>{'criterion': 'entropy', 'max_depth': 20, 'min...</td>\n",
              "      <td>0.668731</td>\n",
              "      <td>0.679188</td>\n",
              "      <td>0.674431</td>\n",
              "      <td>0.673078</td>\n",
              "      <td>0.677247</td>\n",
              "      <td>0.674535</td>\n",
              "      <td>0.003601</td>\n",
              "      <td>55</td>\n",
              "      <td>0.690360</td>\n",
              "      <td>0.692123</td>\n",
              "      <td>0.690001</td>\n",
              "      <td>0.690421</td>\n",
              "      <td>0.690814</td>\n",
              "      <td>0.690744</td>\n",
              "      <td>0.000736</td>\n",
              "    </tr>\n",
              "    <tr>\n",
              "      <th>212</th>\n",
              "      <td>0.585684</td>\n",
              "      <td>0.004604</td>\n",
              "      <td>0.007925</td>\n",
              "      <td>0.000057</td>\n",
              "      <td>entropy</td>\n",
              "      <td>20</td>\n",
              "      <td>175</td>\n",
              "      <td>100</td>\n",
              "      <td>{'criterion': 'entropy', 'max_depth': 20, 'min...</td>\n",
              "      <td>0.668731</td>\n",
              "      <td>0.679188</td>\n",
              "      <td>0.674431</td>\n",
              "      <td>0.673078</td>\n",
              "      <td>0.677247</td>\n",
              "      <td>0.674535</td>\n",
              "      <td>0.003601</td>\n",
              "      <td>55</td>\n",
              "      <td>0.690360</td>\n",
              "      <td>0.692123</td>\n",
              "      <td>0.690001</td>\n",
              "      <td>0.690421</td>\n",
              "      <td>0.690814</td>\n",
              "      <td>0.690744</td>\n",
              "      <td>0.000736</td>\n",
              "    </tr>\n",
              "    <tr>\n",
              "      <th>213</th>\n",
              "      <td>0.588389</td>\n",
              "      <td>0.005942</td>\n",
              "      <td>0.007933</td>\n",
              "      <td>0.000040</td>\n",
              "      <td>entropy</td>\n",
              "      <td>20</td>\n",
              "      <td>175</td>\n",
              "      <td>125</td>\n",
              "      <td>{'criterion': 'entropy', 'max_depth': 20, 'min...</td>\n",
              "      <td>0.668731</td>\n",
              "      <td>0.679188</td>\n",
              "      <td>0.674431</td>\n",
              "      <td>0.673078</td>\n",
              "      <td>0.677247</td>\n",
              "      <td>0.674535</td>\n",
              "      <td>0.003601</td>\n",
              "      <td>55</td>\n",
              "      <td>0.690360</td>\n",
              "      <td>0.692123</td>\n",
              "      <td>0.690001</td>\n",
              "      <td>0.690421</td>\n",
              "      <td>0.690814</td>\n",
              "      <td>0.690744</td>\n",
              "      <td>0.000736</td>\n",
              "    </tr>\n",
              "    <tr>\n",
              "      <th>214</th>\n",
              "      <td>0.583445</td>\n",
              "      <td>0.005191</td>\n",
              "      <td>0.008009</td>\n",
              "      <td>0.000097</td>\n",
              "      <td>entropy</td>\n",
              "      <td>20</td>\n",
              "      <td>175</td>\n",
              "      <td>150</td>\n",
              "      <td>{'criterion': 'entropy', 'max_depth': 20, 'min...</td>\n",
              "      <td>0.668731</td>\n",
              "      <td>0.679188</td>\n",
              "      <td>0.674431</td>\n",
              "      <td>0.673078</td>\n",
              "      <td>0.677247</td>\n",
              "      <td>0.674535</td>\n",
              "      <td>0.003601</td>\n",
              "      <td>55</td>\n",
              "      <td>0.690360</td>\n",
              "      <td>0.692123</td>\n",
              "      <td>0.690001</td>\n",
              "      <td>0.690421</td>\n",
              "      <td>0.690814</td>\n",
              "      <td>0.690744</td>\n",
              "      <td>0.000736</td>\n",
              "    </tr>\n",
              "    <tr>\n",
              "      <th>215</th>\n",
              "      <td>0.582927</td>\n",
              "      <td>0.005331</td>\n",
              "      <td>0.007968</td>\n",
              "      <td>0.000084</td>\n",
              "      <td>entropy</td>\n",
              "      <td>20</td>\n",
              "      <td>175</td>\n",
              "      <td>175</td>\n",
              "      <td>{'criterion': 'entropy', 'max_depth': 20, 'min...</td>\n",
              "      <td>0.668731</td>\n",
              "      <td>0.679188</td>\n",
              "      <td>0.674431</td>\n",
              "      <td>0.673078</td>\n",
              "      <td>0.677247</td>\n",
              "      <td>0.674535</td>\n",
              "      <td>0.003601</td>\n",
              "      <td>55</td>\n",
              "      <td>0.690360</td>\n",
              "      <td>0.692123</td>\n",
              "      <td>0.690001</td>\n",
              "      <td>0.690421</td>\n",
              "      <td>0.690814</td>\n",
              "      <td>0.690744</td>\n",
              "      <td>0.000736</td>\n",
              "    </tr>\n",
              "  </tbody>\n",
              "</table>\n",
              "<p>216 rows × 24 columns</p>\n",
              "</div>"
            ],
            "text/plain": [
              "     mean_fit_time  std_fit_time  ...  mean_train_score  std_train_score\n",
              "0         0.551985      0.008219  ...          0.698650         0.001704\n",
              "1         0.550676      0.011935  ...          0.698650         0.001704\n",
              "2         0.546195      0.004315  ...          0.698650         0.001704\n",
              "3         0.542918      0.006077  ...          0.697959         0.001474\n",
              "4         0.536171      0.004428  ...          0.697154         0.001577\n",
              "..             ...           ...  ...               ...              ...\n",
              "211       0.584985      0.006817  ...          0.690744         0.000736\n",
              "212       0.585684      0.004604  ...          0.690744         0.000736\n",
              "213       0.588389      0.005942  ...          0.690744         0.000736\n",
              "214       0.583445      0.005191  ...          0.690744         0.000736\n",
              "215       0.582927      0.005331  ...          0.690744         0.000736\n",
              "\n",
              "[216 rows x 24 columns]"
            ]
          },
          "metadata": {
            "tags": []
          },
          "execution_count": 81
        }
      ]
    },
    {
      "cell_type": "code",
      "metadata": {
        "colab": {
          "base_uri": "https://localhost:8080/"
        },
        "id": "lDLdbOHAEKcK",
        "outputId": "f8cfd0e0-9dcf-4482-dc68-5b8ffa0f9fe5"
      },
      "source": [
        "print(\"best_accuracy\",dtree_cv.best_score_)\n",
        "print(dtree_cv.best_estimator_)\n",
        "print(dtree_cv.best_params_)"
      ],
      "execution_count": null,
      "outputs": [
        {
          "output_type": "stream",
          "text": [
            "best_accuracy 0.675691427085301\n",
            "DecisionTreeClassifier(ccp_alpha=0.0, class_weight=None, criterion='entropy',\n",
            "                       max_depth=20, max_features=None, max_leaf_nodes=None,\n",
            "                       min_impurity_decrease=0.0, min_impurity_split=None,\n",
            "                       min_samples_leaf=125, min_samples_split=50,\n",
            "                       min_weight_fraction_leaf=0.0, presort='deprecated',\n",
            "                       random_state=7, splitter='best')\n",
            "{'criterion': 'entropy', 'max_depth': 20, 'min_samples_leaf': 125, 'min_samples_split': 50}\n"
          ],
          "name": "stdout"
        }
      ]
    },
    {
      "cell_type": "code",
      "metadata": {
        "colab": {
          "base_uri": "https://localhost:8080/"
        },
        "id": "AjhSjpy4ENC-",
        "outputId": "2e577015-e052-4742-c268-7f86b22a31de"
      },
      "source": [
        "dtree_tn=DecisionTreeClassifier(criterion='entropy',\n",
        "                                random_state=7,\n",
        "                                max_depth=25,#15\n",
        "                                min_samples_leaf=125,#95\n",
        "                                min_samples_split=60)#50\n",
        "\n",
        "dtree_tn.fit(x_train,y_train)"
      ],
      "execution_count": null,
      "outputs": [
        {
          "output_type": "execute_result",
          "data": {
            "text/plain": [
              "DecisionTreeClassifier(ccp_alpha=0.0, class_weight=None, criterion='entropy',\n",
              "                       max_depth=25, max_features=None, max_leaf_nodes=None,\n",
              "                       min_impurity_decrease=0.0, min_impurity_split=None,\n",
              "                       min_samples_leaf=125, min_samples_split=60,\n",
              "                       min_weight_fraction_leaf=0.0, presort='deprecated',\n",
              "                       random_state=7, splitter='best')"
            ]
          },
          "metadata": {
            "tags": []
          },
          "execution_count": 111
        }
      ]
    },
    {
      "cell_type": "code",
      "metadata": {
        "colab": {
          "base_uri": "https://localhost:8080/"
        },
        "id": "oek82ZPaEQ3W",
        "outputId": "1ae57d5b-c2c0-48eb-db08-1b09a0056a85"
      },
      "source": [
        "dtree_tn.score(x_test,y_test)"
      ],
      "execution_count": null,
      "outputs": [
        {
          "output_type": "execute_result",
          "data": {
            "text/plain": [
              "0.6723586437675311"
            ]
          },
          "metadata": {
            "tags": []
          },
          "execution_count": 112
        }
      ]
    },
    {
      "cell_type": "markdown",
      "metadata": {
        "id": "hpv0363aQxYZ"
      },
      "source": [
        "\n",
        "accuracy  is 67.23%"
      ]
    },
    {
      "cell_type": "code",
      "metadata": {
        "colab": {
          "base_uri": "https://localhost:8080/",
          "height": 280
        },
        "id": "L83EL3VwEXtF",
        "outputId": "0f506529-2f40-4b80-81d4-86987fec94cd"
      },
      "source": [
        "plt.figure()\n",
        "plt.plot(dtree_scores[\"param_max_depth\"],\n",
        "         dtree_scores[\"mean_train_score\"],\n",
        "         label=\"training accuracy\")\n",
        "\n",
        "plt.plot(dtree_scores[\"param_max_depth\"],\n",
        "         dtree_scores[\"mean_test_score\"],\n",
        "         label=\"testing accuracy\")\n",
        "plt.xlabel(\"max_depth\")\n",
        "plt.ylabel(\"Accuracy\")\n",
        "plt.legend()\n",
        "plt.show()"
      ],
      "execution_count": null,
      "outputs": [
        {
          "output_type": "display_data",
          "data": {
            "image/png": "[encoded data removed]",
            "text/plain": [
              "<Figure size 432x288 with 1 Axes>"
            ]
          },
          "metadata": {
            "tags": [],
            "needs_background": "light"
          }
        }
      ]
    },
    {
      "cell_type": "markdown",
      "metadata": {
        "id": "dKh5JoK1EnjN"
      },
      "source": [
        "# **RANDOM FOREST**"
      ]
    },
    {
      "cell_type": "code",
      "metadata": {
        "id": "rkhmgkZ6Sv1U"
      },
      "source": [
        "from sklearn.model_selection import GridSearchCV"
      ],
      "execution_count": 43,
      "outputs": []
    },
    {
      "cell_type": "code",
      "metadata": {
        "colab": {
          "base_uri": "https://localhost:8080/"
        },
        "id": "Mw9gRVpYEsMB",
        "outputId": "8fd3935c-b6f2-40b3-8dfe-588f4f29a4b4"
      },
      "source": [
        "from sklearn.ensemble import RandomForestClassifier\n",
        "rfc=RandomForestClassifier(n_estimators=1,criterion='entropy',random_state=7)\n",
        "rfc.fit(x_train,y_train)"
      ],
      "execution_count": 36,
      "outputs": [
        {
          "output_type": "execute_result",
          "data": {
            "text/plain": [
              "RandomForestClassifier(bootstrap=True, ccp_alpha=0.0, class_weight=None,\n",
              "                       criterion='entropy', max_depth=None, max_features='auto',\n",
              "                       max_leaf_nodes=None, max_samples=None,\n",
              "                       min_impurity_decrease=0.0, min_impurity_split=None,\n",
              "                       min_samples_leaf=1, min_samples_split=2,\n",
              "                       min_weight_fraction_leaf=0.0, n_estimators=1,\n",
              "                       n_jobs=None, oob_score=False, random_state=7, verbose=0,\n",
              "                       warm_start=False)"
            ]
          },
          "metadata": {
            "tags": []
          },
          "execution_count": 36
        }
      ]
    },
    {
      "cell_type": "code",
      "metadata": {
        "id": "eHI7vgZ0Et0Z"
      },
      "source": [
        "rfc_pred=rfc.predict(x_test)"
      ],
      "execution_count": 39,
      "outputs": []
    },
    {
      "cell_type": "code",
      "metadata": {
        "colab": {
          "base_uri": "https://localhost:8080/"
        },
        "id": "7SQnIaO5Fi_a",
        "outputId": "c2b3fecf-a9f5-46c9-b95b-e1273f473146"
      },
      "source": [
        "print(confusion_matrix(y_test,rfc_pred))\n",
        "print(metrics.accuracy_score(y_test,rfc_pred))"
      ],
      "execution_count": null,
      "outputs": [
        {
          "output_type": "stream",
          "text": [
            "[[12418  8007]\n",
            " [ 7962 12255]]\n",
            "0.6070813444220264\n"
          ],
          "name": "stdout"
        }
      ]
    },
    {
      "cell_type": "markdown",
      "metadata": {
        "id": "VTEePp_rFn1R"
      },
      "source": [
        "Hyperparamter Tunning"
      ]
    },
    {
      "cell_type": "code",
      "metadata": {
        "id": "4x6kl6KGFk7X"
      },
      "source": [
        "param_grid = { \n",
        "    'n_estimators': range(25,100,25),\n",
        "    'max_depth' : range(1,25,5),\n",
        "    'criterion' :['gini','entropy']\n",
        "}"
      ],
      "execution_count": 40,
      "outputs": []
    },
    {
      "cell_type": "code",
      "metadata": {
        "id": "2aUbTyXgFqiA"
      },
      "source": [
        "CV_rfc = GridSearchCV(estimator=rfc,param_grid=param_grid,cv=5, verbose=1)"
      ],
      "execution_count": 44,
      "outputs": []
    },
    {
      "cell_type": "code",
      "metadata": {
        "id": "BCj8vQjjFskI",
        "colab": {
          "base_uri": "https://localhost:8080/"
        },
        "outputId": "6097702f-d9b0-4d21-a0ca-fadf9534b5d8"
      },
      "source": [
        "CV_rfc.fit(x_train, y_train)"
      ],
      "execution_count": 45,
      "outputs": [
        {
          "output_type": "stream",
          "text": [
            "Fitting 5 folds for each of 30 candidates, totalling 150 fits\n"
          ],
          "name": "stdout"
        },
        {
          "output_type": "stream",
          "text": [
            "[Parallel(n_jobs=1)]: Using backend SequentialBackend with 1 concurrent workers.\n",
            "[Parallel(n_jobs=1)]: Done 150 out of 150 | elapsed: 16.9min finished\n"
          ],
          "name": "stderr"
        },
        {
          "output_type": "execute_result",
          "data": {
            "text/plain": [
              "GridSearchCV(cv=5, error_score=nan,\n",
              "             estimator=RandomForestClassifier(bootstrap=True, ccp_alpha=0.0,\n",
              "                                              class_weight=None,\n",
              "                                              criterion='entropy',\n",
              "                                              max_depth=None,\n",
              "                                              max_features='auto',\n",
              "                                              max_leaf_nodes=None,\n",
              "                                              max_samples=None,\n",
              "                                              min_impurity_decrease=0.0,\n",
              "                                              min_impurity_split=None,\n",
              "                                              min_samples_leaf=1,\n",
              "                                              min_samples_split=2,\n",
              "                                              min_weight_fraction_leaf=0.0,\n",
              "                                              n_estimators=1, n_jobs=None,\n",
              "                                              oob_score=False, random_state=7,\n",
              "                                              verbose=0, warm_start=False),\n",
              "             iid='deprecated', n_jobs=None,\n",
              "             param_grid={'criterion': ['gini', 'entropy'],\n",
              "                         'max_depth': range(1, 25, 5),\n",
              "                         'n_estimators': range(25, 100, 25)},\n",
              "             pre_dispatch='2*n_jobs', refit=True, return_train_score=False,\n",
              "             scoring=None, verbose=1)"
            ]
          },
          "metadata": {
            "tags": []
          },
          "execution_count": 45
        }
      ]
    },
    {
      "cell_type": "code",
      "metadata": {
        "id": "OQ4iq8VAFvbt",
        "colab": {
          "base_uri": "https://localhost:8080/"
        },
        "outputId": "a9d28d57-412a-4c9b-d0e3-9d9b6b8416fe"
      },
      "source": [
        "print(CV_rfc.best_estimator_)\n",
        "print(CV_rfc.best_score_)"
      ],
      "execution_count": null,
      "outputs": [
        {
          "output_type": "stream",
          "text": [
            "RandomForestClassifier(bootstrap=True, ccp_alpha=0.0, class_weight=None,\n",
            "                       criterion='entropy', max_depth=16, max_features='auto',\n",
            "                       max_leaf_nodes=None, max_samples=None,\n",
            "                       min_impurity_decrease=0.0, min_impurity_split=None,\n",
            "                       min_samples_leaf=1, min_samples_split=2,\n",
            "                       min_weight_fraction_leaf=0.0, n_estimators=75,\n",
            "                       n_jobs=None, oob_score=False, random_state=7, verbose=0,\n",
            "                       warm_start=False)\n",
            "0.702175131596863\n"
          ],
          "name": "stdout"
        }
      ]
    },
    {
      "cell_type": "code",
      "metadata": {
        "id": "kkSwj-1MLP2c",
        "colab": {
          "base_uri": "https://localhost:8080/"
        },
        "outputId": "582ca16d-c39c-481d-820e-d07959b0cec5"
      },
      "source": [
        "rfc_t=RandomForestClassifier(criterion='entropy',\n",
        "                                random_state=7,\n",
        "                                max_depth=21,\n",
        "                             n_estimators=75)\n",
        "rfc_t.fit(x_train,y_train)"
      ],
      "execution_count": 46,
      "outputs": [
        {
          "output_type": "execute_result",
          "data": {
            "text/plain": [
              "RandomForestClassifier(bootstrap=True, ccp_alpha=0.0, class_weight=None,\n",
              "                       criterion='entropy', max_depth=21, max_features='auto',\n",
              "                       max_leaf_nodes=None, max_samples=None,\n",
              "                       min_impurity_decrease=0.0, min_impurity_split=None,\n",
              "                       min_samples_leaf=1, min_samples_split=2,\n",
              "                       min_weight_fraction_leaf=0.0, n_estimators=75,\n",
              "                       n_jobs=None, oob_score=False, random_state=7, verbose=0,\n",
              "                       warm_start=False)"
            ]
          },
          "metadata": {
            "tags": []
          },
          "execution_count": 46
        }
      ]
    },
    {
      "cell_type": "code",
      "metadata": {
        "id": "OgG7rPZnF047"
      },
      "source": [
        "y_pred_rfc=rfc_t.predict(x_test)"
      ],
      "execution_count": 47,
      "outputs": []
    },
    {
      "cell_type": "code",
      "metadata": {
        "id": "z7GdOCwBF4tH",
        "colab": {
          "base_uri": "https://localhost:8080/"
        },
        "outputId": "be327f7c-5b34-49bc-fce0-9a8a8d6f14cf"
      },
      "source": [
        "print(confusion_matrix(y_test,y_pred_rfc))\n",
        "print(metrics.accuracy_score(y_test,y_pred_rfc))\n"
      ],
      "execution_count": null,
      "outputs": [
        {
          "output_type": "stream",
          "text": [
            "[[14227  6198]\n",
            " [ 5863 14354]]\n",
            "0.7032380296245263\n"
          ],
          "name": "stdout"
        }
      ]
    },
    {
      "cell_type": "markdown",
      "metadata": {
        "id": "r99q9yEtW0_1"
      },
      "source": [
        "Accuracy after tunning 70.32"
      ]
    },
    {
      "cell_type": "code",
      "metadata": {
        "colab": {
          "base_uri": "https://localhost:8080/"
        },
        "id": "e83TdvmuQQss",
        "outputId": "5530439f-db0e-40fc-992a-eebd35e1bcb0"
      },
      "source": [
        "import sklearn.metrics as metrics\n",
        "print(metrics.recall_score(y_test,y_pred_rfc))\n",
        "print(metrics.precision_score(y_test,y_pred_rfc))\n",
        "print(metrics.f1_score(y_test,y_pred_rfc))"
      ],
      "execution_count": 49,
      "outputs": [
        {
          "output_type": "stream",
          "text": [
            "0.7099965375673938\n",
            "0.6984235110938108\n",
            "0.7041624763913757\n"
          ],
          "name": "stdout"
        }
      ]
    },
    {
      "cell_type": "code",
      "metadata": {
        "id": "iBYykCeEX2U7"
      },
      "source": [
        "from sklearn.metrics import roc_curve\n",
        "\n",
        "# roc curve for models\n",
        "fpr1, tpr1, thresh1 = roc_curve(y_test, y_pred_rfc, pos_label=1)\n",
        "#fpr2, tpr2, thresh2 = roc_curve(y_test, pred_prob2[:,1], pos_label=1)\n",
        "\n",
        "# roc curve for tpr = fpr \n",
        "random_probs = [0 for i in range(len(y_test))]\n",
        "p_fpr, p_tpr, _ = roc_curve(y_test, random_probs, pos_label=1)"
      ],
      "execution_count": 53,
      "outputs": []
    },
    {
      "cell_type": "code",
      "metadata": {
        "colab": {
          "base_uri": "https://localhost:8080/",
          "height": 295
        },
        "id": "mV1uzuqiXhJI",
        "outputId": "31be577d-ec1d-45ed-b311-6543f9e7ed33"
      },
      "source": [
        "import matplotlib.pyplot as plt\n",
        "\n",
        "\n",
        "# plot roc curves\n",
        "plt.plot(fpr1, tpr1, linestyle='--',color='orange', label='Random Forest')\n",
        "plt.plot(p_fpr, p_tpr, linestyle='--', color='blue')\n",
        "# title\n",
        "plt.title('ROC curve')\n",
        "# x label\n",
        "plt.xlabel('False Positive Rate')\n",
        "# y label\n",
        "plt.ylabel('True Positive rate')\n",
        "plt.legend(loc='best')\n",
        "plt.show();"
      ],
      "execution_count": 54,
      "outputs": [
        {
          "output_type": "display_data",
          "data": {
            "image/png": "[encoded data removed]",
            "text/plain": [
              "<Figure size 432x288 with 1 Axes>"
            ]
          },
          "metadata": {
            "tags": [],
            "needs_background": "light"
          }
        }
      ]
    },
    {
      "cell_type": "markdown",
      "metadata": {
        "id": "TEyw48z9Mlso"
      },
      "source": [
        "# **ADABOOST CLASSIFIER**"
      ]
    },
    {
      "cell_type": "code",
      "metadata": {
        "id": "VWVR9DhfMkiV"
      },
      "source": [
        "from sklearn.ensemble import AdaBoostClassifier\n",
        "ada = AdaBoostClassifier(random_state=7)\n",
        "ada.fit(x_train, y_train)\n",
        "ada_pred = ada.predict(x_test)"
      ],
      "execution_count": null,
      "outputs": []
    },
    {
      "cell_type": "code",
      "metadata": {
        "colab": {
          "base_uri": "https://localhost:8080/"
        },
        "id": "EwF0ySX8Mmf1",
        "outputId": "5f7f90d9-a4c5-4315-d52a-8060ad1b5617"
      },
      "source": [
        "print(confusion_matrix(y_test,ada_pred))\n",
        "print(accuracy_score(y_test,ada_pred))"
      ],
      "execution_count": null,
      "outputs": [
        {
          "output_type": "stream",
          "text": [
            "[[13710  6715]\n",
            " [ 6787 13430]]\n",
            "0.6677820973377294\n"
          ],
          "name": "stdout"
        }
      ]
    },
    {
      "cell_type": "code",
      "metadata": {
        "colab": {
          "base_uri": "https://localhost:8080/"
        },
        "id": "D7g5ZTWNMpil",
        "outputId": "2a11e035-736d-4ecd-f302-6b3ad8a81a27"
      },
      "source": [
        "from sklearn.metrics import f1_score\n",
        "from sklearn.model_selection import cross_val_score\n",
        "scores = cross_val_score(ada, x_train, y_train, cv=5)\n",
        "print(\"Average cross validation score: {:.3f}\".format(scores.mean()))\n",
        "print(\"Test accuracy: {:.3f}\".format(ada.score(x_test, y_test)))\n",
        "print(\"F1 score: {:.3f}\".format(f1_score(y_test, ada_pred)))"
      ],
      "execution_count": null,
      "outputs": [
        {
          "output_type": "stream",
          "text": [
            "Average cross validation score: 0.672\n",
            "Test accuracy: 0.668\n",
            "F1 score: 0.665\n"
          ],
          "name": "stdout"
        }
      ]
    },
    {
      "cell_type": "markdown",
      "metadata": {
        "id": "B13jEJrdKlZH"
      },
      "source": [
        "# **xgboost**"
      ]
    },
    {
      "cell_type": "code",
      "metadata": {
        "colab": {
          "base_uri": "https://localhost:8080/"
        },
        "id": "_6nI1z0iDzAu",
        "outputId": "00b1264b-dc96-4601-fddb-4123f3e863f9"
      },
      "source": [
        "from xgboost import XGBClassifier\n",
        "from sklearn.metrics import accuracy_score\n",
        "model = XGBClassifier(n_estimators=100,random_state=7)\n",
        "model.fit(x_train,y_train)"
      ],
      "execution_count": null,
      "outputs": [
        {
          "output_type": "execute_result",
          "data": {
            "text/plain": [
              "XGBClassifier(base_score=0.5, booster='gbtree', colsample_bylevel=1,\n",
              "              colsample_bynode=1, colsample_bytree=1, gamma=0,\n",
              "              learning_rate=0.1, max_delta_step=0, max_depth=3,\n",
              "              min_child_weight=1, missing=None, n_estimators=100, n_jobs=1,\n",
              "              nthread=None, objective='binary:logistic', random_state=7,\n",
              "              reg_alpha=0, reg_lambda=1, scale_pos_weight=1, seed=None,\n",
              "              silent=None, subsample=1, verbosity=1)"
            ]
          },
          "metadata": {
            "tags": []
          },
          "execution_count": 117
        }
      ]
    },
    {
      "cell_type": "code",
      "metadata": {
        "id": "pzOGlwX0ElOn"
      },
      "source": [
        "model_pred=model.predict(x_test)"
      ],
      "execution_count": null,
      "outputs": []
    },
    {
      "cell_type": "code",
      "metadata": {
        "colab": {
          "base_uri": "https://localhost:8080/"
        },
        "id": "ibZ274FqEpY4",
        "outputId": "99124dca-c280-4b91-8bf9-52f1de4c67fc"
      },
      "source": [
        "print(confusion_matrix(y_test,model_pred))\n",
        "print(accuracy_score(y_test,model_pred))"
      ],
      "execution_count": null,
      "outputs": [
        {
          "output_type": "stream",
          "text": [
            "[[13907  6518]\n",
            " [ 6042 14175]]\n",
            "0.690960090546725\n"
          ],
          "name": "stdout"
        }
      ]
    },
    {
      "cell_type": "markdown",
      "metadata": {
        "id": "I9JB7w65cPjT"
      },
      "source": [
        "Before tuning Accuracy 69.09%"
      ]
    },
    {
      "cell_type": "markdown",
      "metadata": {
        "id": "lcBsfT6oFz7x"
      },
      "source": [
        "**After tuning**"
      ]
    },
    {
      "cell_type": "code",
      "metadata": {
        "id": "EktVU6AzFc9y"
      },
      "source": [
        "param_grid = { \n",
        "    'base_score':[0.8,0.9,1.0,2.0,0.5],\n",
        "    'learning_rate':[0.1,0.2,0.3,0.4],\n",
        "    'gamma' :[1]\n",
        "}"
      ],
      "execution_count": null,
      "outputs": []
    },
    {
      "cell_type": "code",
      "metadata": {
        "id": "xlzntbqNF0so"
      },
      "source": [
        "xgboost_df = GridSearchCV(estimator=model,param_grid=param_grid,cv=8, verbose=1)"
      ],
      "execution_count": null,
      "outputs": []
    },
    {
      "cell_type": "code",
      "metadata": {
        "colab": {
          "base_uri": "https://localhost:8080/"
        },
        "id": "fIXx2c_OGdwM",
        "outputId": "0829ff2e-782d-4783-e9df-ddbd3d6c9b37"
      },
      "source": [
        "xgboost_df.fit(x_train, y_train)"
      ],
      "execution_count": null,
      "outputs": [
        {
          "output_type": "stream",
          "text": [
            "Fitting 8 folds for each of 20 candidates, totalling 160 fits\n"
          ],
          "name": "stdout"
        },
        {
          "output_type": "stream",
          "text": [
            "[Parallel(n_jobs=1)]: Using backend SequentialBackend with 1 concurrent workers.\n",
            "/usr/local/lib/python3.7/dist-packages/sklearn/model_selection/_validation.py:536: FitFailedWarning: Estimator fit failed. The score on this train-test partition for these parameters will be set to nan. Details: \n",
            "xgboost.core.XGBoostError: [08:59:47] /workspace/src/objective/./regression_loss.h:62: Check failed: base_score > 0.0f && base_score < 1.0f: base_score must be in (0,1) for logistic loss\n",
            "Stack trace:\n",
            "  [bt] (0) /usr/local/lib/python3.7/dist-packages/xgboost/./lib/libxgboost.so(dmlc::LogMessageFatal::~LogMessageFatal()+0x24) [0x7efeb5455cb4]\n",
            "  [bt] (1) /usr/local/lib/python3.7/dist-packages/xgboost/./lib/libxgboost.so(xgboost::obj::LogisticRegression::ProbToMargin(float)+0x82) [0x7efeb5655eb2]\n",
            "  [bt] (2) /usr/local/lib/python3.7/dist-packages/xgboost/./lib/libxgboost.so(xgboost::LearnerImpl::LazyInitModel()+0x48a) [0x7efeb54eb0ba]\n",
            "  [bt] (3) /usr/local/lib/python3.7/dist-packages/xgboost/./lib/libxgboost.so(XGBoosterUpdateOneIter+0x52) [0x7efeb5452ac2]\n",
            "  [bt] (4) /usr/lib/x86_64-linux-gnu/libffi.so.6(ffi_call_unix64+0x4c) [0x7eff020c4dae]\n",
            "  [bt] (5) /usr/lib/x86_64-linux-gnu/libffi.so.6(ffi_call+0x22f) [0x7eff020c471f]\n",
            "  [bt] (6) /usr/lib/python3.7/lib-dynload/_ctypes.cpython-37m-x86_64-linux-gnu.so(_ctypes_callproc+0x28c) [0x7eff022d85dc]\n",
            "  [bt] (7) /usr/lib/python3.7/lib-dynload/_ctypes.cpython-37m-x86_64-linux-gnu.so(+0x109e3) [0x7eff022d79e3]\n",
            "  [bt] (8) /usr/bin/python3(_PyObject_FastCallKeywords+0x92) [0x5651e439f7f2]\n",
            "\n",
            "\n",
            "\n",
            "  FitFailedWarning)\n",
            "/usr/local/lib/python3.7/dist-packages/sklearn/model_selection/_validation.py:536: FitFailedWarning: Estimator fit failed. The score on this train-test partition for these parameters will be set to nan. Details: \n",
            "xgboost.core.XGBoostError: [08:59:48] /workspace/src/objective/./regression_loss.h:62: Check failed: base_score > 0.0f && base_score < 1.0f: base_score must be in (0,1) for logistic loss\n",
            "Stack trace:\n",
            "  [bt] (0) /usr/local/lib/python3.7/dist-packages/xgboost/./lib/libxgboost.so(dmlc::LogMessageFatal::~LogMessageFatal()+0x24) [0x7efeb5455cb4]\n",
            "  [bt] (1) /usr/local/lib/python3.7/dist-packages/xgboost/./lib/libxgboost.so(xgboost::obj::LogisticRegression::ProbToMargin(float)+0x82) [0x7efeb5655eb2]\n",
            "  [bt] (2) /usr/local/lib/python3.7/dist-packages/xgboost/./lib/libxgboost.so(xgboost::LearnerImpl::LazyInitModel()+0x48a) [0x7efeb54eb0ba]\n",
            "  [bt] (3) /usr/local/lib/python3.7/dist-packages/xgboost/./lib/libxgboost.so(XGBoosterUpdateOneIter+0x52) [0x7efeb5452ac2]\n",
            "  [bt] (4) /usr/lib/x86_64-linux-gnu/libffi.so.6(ffi_call_unix64+0x4c) [0x7eff020c4dae]\n",
            "  [bt] (5) /usr/lib/x86_64-linux-gnu/libffi.so.6(ffi_call+0x22f) [0x7eff020c471f]\n",
            "  [bt] (6) /usr/lib/python3.7/lib-dynload/_ctypes.cpython-37m-x86_64-linux-gnu.so(_ctypes_callproc+0x28c) [0x7eff022d85dc]\n",
            "  [bt] (7) /usr/lib/python3.7/lib-dynload/_ctypes.cpython-37m-x86_64-linux-gnu.so(+0x109e3) [0x7eff022d79e3]\n",
            "  [bt] (8) /usr/bin/python3(_PyObject_FastCallKeywords+0x92) [0x5651e439f7f2]\n",
            "\n",
            "\n",
            "\n",
            "  FitFailedWarning)\n",
            "/usr/local/lib/python3.7/dist-packages/sklearn/model_selection/_validation.py:536: FitFailedWarning: Estimator fit failed. The score on this train-test partition for these parameters will be set to nan. Details: \n",
            "xgboost.core.XGBoostError: [08:59:49] /workspace/src/objective/./regression_loss.h:62: Check failed: base_score > 0.0f && base_score < 1.0f: base_score must be in (0,1) for logistic loss\n",
            "Stack trace:\n",
            "  [bt] (0) /usr/local/lib/python3.7/dist-packages/xgboost/./lib/libxgboost.so(dmlc::LogMessageFatal::~LogMessageFatal()+0x24) [0x7efeb5455cb4]\n",
            "  [bt] (1) /usr/local/lib/python3.7/dist-packages/xgboost/./lib/libxgboost.so(xgboost::obj::LogisticRegression::ProbToMargin(float)+0x82) [0x7efeb5655eb2]\n",
            "  [bt] (2) /usr/local/lib/python3.7/dist-packages/xgboost/./lib/libxgboost.so(xgboost::LearnerImpl::LazyInitModel()+0x48a) [0x7efeb54eb0ba]\n",
            "  [bt] (3) /usr/local/lib/python3.7/dist-packages/xgboost/./lib/libxgboost.so(XGBoosterUpdateOneIter+0x52) [0x7efeb5452ac2]\n",
            "  [bt] (4) /usr/lib/x86_64-linux-gnu/libffi.so.6(ffi_call_unix64+0x4c) [0x7eff020c4dae]\n",
            "  [bt] (5) /usr/lib/x86_64-linux-gnu/libffi.so.6(ffi_call+0x22f) [0x7eff020c471f]\n",
            "  [bt] (6) /usr/lib/python3.7/lib-dynload/_ctypes.cpython-37m-x86_64-linux-gnu.so(_ctypes_callproc+0x28c) [0x7eff022d85dc]\n",
            "  [bt] (7) /usr/lib/python3.7/lib-dynload/_ctypes.cpython-37m-x86_64-linux-gnu.so(+0x109e3) [0x7eff022d79e3]\n",
            "  [bt] (8) /usr/bin/python3(_PyObject_FastCallKeywords+0x92) [0x5651e439f7f2]\n",
            "\n",
            "\n",
            "\n",
            "  FitFailedWarning)\n",
            "/usr/local/lib/python3.7/dist-packages/sklearn/model_selection/_validation.py:536: FitFailedWarning: Estimator fit failed. The score on this train-test partition for these parameters will be set to nan. Details: \n",
            "xgboost.core.XGBoostError: [08:59:50] /workspace/src/objective/./regression_loss.h:62: Check failed: base_score > 0.0f && base_score < 1.0f: base_score must be in (0,1) for logistic loss\n",
            "Stack trace:\n",
            "  [bt] (0) /usr/local/lib/python3.7/dist-packages/xgboost/./lib/libxgboost.so(dmlc::LogMessageFatal::~LogMessageFatal()+0x24) [0x7efeb5455cb4]\n",
            "  [bt] (1) /usr/local/lib/python3.7/dist-packages/xgboost/./lib/libxgboost.so(xgboost::obj::LogisticRegression::ProbToMargin(float)+0x82) [0x7efeb5655eb2]\n",
            "  [bt] (2) /usr/local/lib/python3.7/dist-packages/xgboost/./lib/libxgboost.so(xgboost::LearnerImpl::LazyInitModel()+0x48a) [0x7efeb54eb0ba]\n",
            "  [bt] (3) /usr/local/lib/python3.7/dist-packages/xgboost/./lib/libxgboost.so(XGBoosterUpdateOneIter+0x52) [0x7efeb5452ac2]\n",
            "  [bt] (4) /usr/lib/x86_64-linux-gnu/libffi.so.6(ffi_call_unix64+0x4c) [0x7eff020c4dae]\n",
            "  [bt] (5) /usr/lib/x86_64-linux-gnu/libffi.so.6(ffi_call+0x22f) [0x7eff020c471f]\n",
            "  [bt] (6) /usr/lib/python3.7/lib-dynload/_ctypes.cpython-37m-x86_64-linux-gnu.so(_ctypes_callproc+0x28c) [0x7eff022d85dc]\n",
            "  [bt] (7) /usr/lib/python3.7/lib-dynload/_ctypes.cpython-37m-x86_64-linux-gnu.so(+0x109e3) [0x7eff022d79e3]\n",
            "  [bt] (8) /usr/bin/python3(_PyObject_FastCallKeywords+0x92) [0x5651e439f7f2]\n",
            "\n",
            "\n",
            "\n",
            "  FitFailedWarning)\n",
            "[Parallel(n_jobs=1)]: Done 160 out of 160 | elapsed: 10.2min finished\n"
          ],
          "name": "stderr"
        },
        {
          "output_type": "execute_result",
          "data": {
            "text/plain": [
              "GridSearchCV(cv=8, error_score=nan,\n",
              "             estimator=XGBClassifier(base_score=0.5, booster='gbtree',\n",
              "                                     colsample_bylevel=1, colsample_bynode=1,\n",
              "                                     colsample_bytree=1, gamma=0,\n",
              "                                     learning_rate=0.1, max_delta_step=0,\n",
              "                                     max_depth=3, min_child_weight=1,\n",
              "                                     missing=None, n_estimators=100, n_jobs=1,\n",
              "                                     nthread=None, objective='binary:logistic',\n",
              "                                     random_state=7, reg_alpha=0, reg_lambda=1,\n",
              "                                     scale_pos_weight=1, seed=None, silent=None,\n",
              "                                     subsample=1, verbosity=1),\n",
              "             iid='deprecated', n_jobs=None,\n",
              "             param_grid={'base_score': [0.8, 0.9, 1.0, 2.0, 0.5], 'gamma': [1],\n",
              "                         'learning_rate': [0.1, 0.2, 0.3, 0.4]},\n",
              "             pre_dispatch='2*n_jobs', refit=True, return_train_score=False,\n",
              "             scoring=None, verbose=1)"
            ]
          },
          "metadata": {
            "tags": []
          },
          "execution_count": 143
        }
      ]
    },
    {
      "cell_type": "code",
      "metadata": {
        "colab": {
          "base_uri": "https://localhost:8080/"
        },
        "id": "VAV1ZBBYG083",
        "outputId": "91a96423-ba3e-4caf-d084-f4c486433a69"
      },
      "source": [
        "print(xgboost_df.best_estimator_)\n",
        "print(xgboost_df.best_score_)"
      ],
      "execution_count": null,
      "outputs": [
        {
          "output_type": "stream",
          "text": [
            "XGBClassifier(base_score=0.5, booster='gbtree', colsample_bylevel=1,\n",
            "              colsample_bynode=1, colsample_bytree=1, gamma=1,\n",
            "              learning_rate=0.4, max_delta_step=0, max_depth=3,\n",
            "              min_child_weight=1, missing=None, n_estimators=100, n_jobs=1,\n",
            "              nthread=None, objective='binary:logistic', random_state=7,\n",
            "              reg_alpha=0, reg_lambda=1, scale_pos_weight=1, seed=None,\n",
            "              silent=None, subsample=1, verbosity=1)\n",
            "0.7032413588476379\n"
          ],
          "name": "stdout"
        }
      ]
    },
    {
      "cell_type": "code",
      "metadata": {
        "id": "usQ8a2BuIXya"
      },
      "source": [
        "model_pred2=xgboost_df.predict(x_test)"
      ],
      "execution_count": null,
      "outputs": []
    },
    {
      "cell_type": "code",
      "metadata": {
        "colab": {
          "base_uri": "https://localhost:8080/"
        },
        "id": "LZh5mlG0IOZp",
        "outputId": "e479c7df-15cf-4589-ebc3-927adac2e42d"
      },
      "source": [
        "print(confusion_matrix(y_test,model_pred2))\n",
        "print(metrics.accuracy_score(y_test,model_pred2))"
      ],
      "execution_count": null,
      "outputs": [
        {
          "output_type": "stream",
          "text": [
            "[[14138  6287]\n",
            " [ 5807 14410]]\n",
            "0.7024260617095616\n"
          ],
          "name": "stdout"
        }
      ]
    },
    {
      "cell_type": "markdown",
      "metadata": {
        "id": "gymvUR-ccrYs"
      },
      "source": [
        "After Tuning Accuracy is 70.24%"
      ]
    },
    {
      "cell_type": "markdown",
      "metadata": {
        "id": "vwWmHV5fUfnq"
      },
      "source": [
        "**Plotting roc curve of random forest and xgboost**"
      ]
    },
    {
      "cell_type": "code",
      "metadata": {
        "id": "RVz3SDNCS8sD"
      },
      "source": [
        "from sklearn.metrics import roc_curve\n",
        "\n",
        "# roc curve for models\n",
        "fpr1, tpr1, thresh1 = roc_curve(y_test, model_pred, pos_label=1)\n",
        "fpr2, tpr2, thresh2 = roc_curve(y_test, y_pred_rfc, pos_label=1)\n",
        "\n",
        "# roc curve for tpr = fpr \n",
        "random_probs = [0 for i in range(len(y_test))]\n",
        "p_fpr, p_tpr, _ = roc_curve(y_test, random_probs, pos_label=1)"
      ],
      "execution_count": null,
      "outputs": []
    },
    {
      "cell_type": "code",
      "metadata": {
        "colab": {
          "base_uri": "https://localhost:8080/",
          "height": 376
        },
        "id": "IuZu663iTHdn",
        "outputId": "8f59925d-7d04-4d9c-9168-e8d63e40de34"
      },
      "source": [
        "import matplotlib.pyplot as plt\n",
        "\n",
        "\n",
        "# plot roc curves\n",
        "plt.plot(fpr1, tpr1, linestyle='--',color='orange', label='XGBOOST')\n",
        "plt.plot(fpr2, tpr2, linestyle='--',color='green', label='RF')\n",
        "plt.plot(p_fpr, p_tpr, linestyle='--', color='blue')\n",
        "# title\n",
        "plt.title('ROC curve')\n",
        "# x label\n",
        "plt.xlabel('False Positive Rate')\n",
        "# y label\n",
        "plt.ylabel('True Positive rate')\n",
        "plt.legend(loc='best')\n",
        "plt.show();"
      ],
      "execution_count": null,
      "outputs": [
        {
          "output_type": "display_data",
          "data": {
            "image/png": "[encoded data removed]",
            "text/plain": [
              "<Figure size 576x396 with 1 Axes>"
            ]
          },
          "metadata": {
            "tags": []
          }
        }
      ]
    }
  ]
}